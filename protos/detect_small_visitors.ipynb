{
 "cells": [
  {
   "cell_type": "code",
   "execution_count": 26,
   "metadata": {},
   "outputs": [],
   "source": [
    "from pprint import pprint\n",
    "import numpy as np\n",
    "import pandas as pd\n",
    "import matplotlib.pyplot as plt\n",
    "%matplotlib inline\n",
    "\n",
    "pd.set_option('display.max_columns', None)\n",
    "\n",
    "from sklearn import *\n",
    "from lightgbm import LGBMRegressor, LGBMClassifier"
   ]
  },
  {
   "cell_type": "code",
   "execution_count": 7,
   "metadata": {
    "collapsed": true
   },
   "outputs": [],
   "source": [
    "train = pd.read_pickle('train.pkl')\n",
    "test = pd.read_pickle('test.pkl')\n",
    "train.visit_date = pd.to_datetime(train.visit_date)\n",
    "test.visit_date = pd.to_datetime(test.visit_date)"
   ]
  },
  {
   "cell_type": "code",
   "execution_count": 9,
   "metadata": {},
   "outputs": [
    {
     "data": {
      "text/plain": [
       "0.6931471805599453"
      ]
     },
     "execution_count": 9,
     "metadata": {},
     "output_type": "execute_result"
    }
   ],
   "source": [
    "np.log1p(1)"
   ]
  },
  {
   "cell_type": "code",
   "execution_count": 12,
   "metadata": {
    "scrolled": true
   },
   "outputs": [
    {
     "data": {
      "text/plain": [
       "4811"
      ]
     },
     "execution_count": 12,
     "metadata": {},
     "output_type": "execute_result"
    }
   ],
   "source": [
    "(train['visitors'] == np.log1p(1)).sum()"
   ]
  },
  {
   "cell_type": "code",
   "execution_count": 18,
   "metadata": {
    "collapsed": true
   },
   "outputs": [],
   "source": [
    "for i in range(1, 11):\n",
    "    train['le{}'.format(i)] = (train['visitors']<=np.log1p(i)).astype(int)"
   ]
  },
  {
   "cell_type": "code",
   "execution_count": 79,
   "metadata": {},
   "outputs": [],
   "source": [
    "val_id = ((train.year == 2017) & (train.month >= 3))\n",
    "trn_id = ~val_id\n",
    "col = [c for c in train if c not in ['id', 'air_store_id', 'air_area_name', 'air_genre_name', 'visit_date', 'visitors'] + ['le{}'.format(i) for i in range(1, 11)]]\n",
    "X_trn = train.loc[trn_id, col]\n",
    "y_trn = train.loc[trn_id, 'le1'].values\n",
    "X_val = train.loc[val_id, col]\n",
    "y_val = train.loc[val_id, 'le1'].values\n",
    "X_all = train[col]\n",
    "y_all = train['le1'].values\n",
    "X_tst = test[col]"
   ]
  },
  {
   "cell_type": "code",
   "execution_count": 80,
   "metadata": {
    "collapsed": true
   },
   "outputs": [],
   "source": [
    "def RMSLE(y, pred):\n",
    "    return metrics.mean_squared_error(y, pred)**0.5\n",
    "\n",
    "from sklearn.metrics import accuracy_score"
   ]
  },
  {
   "cell_type": "code",
   "execution_count": 81,
   "metadata": {
    "collapsed": true
   },
   "outputs": [],
   "source": [
    "from copy import deepcopy"
   ]
  },
  {
   "cell_type": "code",
   "execution_count": 83,
   "metadata": {
    "scrolled": true
   },
   "outputs": [
    {
     "name": "stdout",
     "output_type": "stream",
     "text": [
      "train 1\n",
      "train 2\n",
      "train 3\n",
      "train 4\n",
      "train 5\n",
      "train 6\n",
      "train 7\n",
      "train 8\n",
      "train 9\n",
      "train 10\n"
     ]
    }
   ],
   "source": [
    "pretrain_models = {}\n",
    "\n",
    "for i in range(1, 11):\n",
    "    params = {\n",
    "        'learning_rate': 0.1,\n",
    "        'min_child_samples': 20, \n",
    "        'n_estimators': 200, \n",
    "        'num_leaves': 50, \n",
    "        'random_state': 77, \n",
    "    }\n",
    "    lgb = LGBMClassifier(**params)\n",
    "    \n",
    "    X = train[col]\n",
    "    y = train[f'le{i}'].values\n",
    "    \n",
    "    print(f'train {i}')\n",
    "    lgb.fit(X, y)\n",
    "    \n",
    "    train[f'le{i}_p'] = lgb.predict_proba(X_all)[:, 1]\n",
    "    test[f'le{i}_p'] = lgb.predict_proba(X_tst)[:, 1]\n",
    "    \n",
    "    pretrain_models[i] = deepcopy(lgb)"
   ]
  },
  {
   "cell_type": "markdown",
   "metadata": {},
   "source": [
    "## 本チャン"
   ]
  },
  {
   "cell_type": "code",
   "execution_count": 93,
   "metadata": {},
   "outputs": [],
   "source": [
    "val_id = ((train.year == 2017) & (train.month >= 3))\n",
    "trn_id = ~val_id\n",
    "col = [c for c in train if c not in ['id', 'air_store_id', 'air_area_name', 'air_genre_name', 'visit_date', 'visitors'] + ['le{}'.format(i) for i in range(1, 11)] + ['le{}_p'.format(i) for i in range(3, 11)]]\n",
    "X_trn = train.loc[trn_id, col]\n",
    "y_trn = train.loc[trn_id, 'visitors'].values\n",
    "X_val = train.loc[val_id, col]\n",
    "y_val = train.loc[val_id, 'visitors'].values\n",
    "X_all = train[col]\n",
    "y_all = train['visitors'].values\n",
    "X_tst = test[col]"
   ]
  },
  {
   "cell_type": "code",
   "execution_count": 94,
   "metadata": {},
   "outputs": [
    {
     "data": {
      "text/plain": [
       "LGBMRegressor(boosting_type='gbdt', class_weight=None, colsample_bytree=0.8,\n",
       "       learning_rate=0.05, max_depth=-1, min_child_samples=50,\n",
       "       min_child_weight=0.001, min_split_gain=0.0, n_estimators=600,\n",
       "       n_jobs=-1, num_leaves=70, objective=None, random_state=77,\n",
       "       reg_alpha=0.0, reg_lambda=0.0, silent=True, subsample=1.0,\n",
       "       subsample_for_bin=200000, subsample_freq=1)"
      ]
     },
     "execution_count": 94,
     "metadata": {},
     "output_type": "execute_result"
    }
   ],
   "source": [
    "# params = {\n",
    "#     'boosting_type': 'gbdt',\n",
    "#     'num_leaves': 70,\n",
    "#     'n_estimators': 500,\n",
    "#     'learning_rate': 0.05,\n",
    "#     'random_state': 77,\n",
    "#     'max_depth': 6,\n",
    "#     'min_child_samples': 50,\n",
    "#     'colsample_bytree': 0.8,\n",
    "#     'subsample': 0.8\n",
    "# }\n",
    "params = {'colsample_bytree': 0.8, 'learning_rate': 0.05, \n",
    " 'min_child_samples': 50, 'n_estimators': 600, 'num_leaves': 70, 'random_state': 77, 'subsample': 1.0}\n",
    "lgb = LGBMRegressor(**params)\n",
    "\n",
    "lgb.fit(X_trn, y_trn)"
   ]
  },
  {
   "cell_type": "code",
   "execution_count": 95,
   "metadata": {},
   "outputs": [
    {
     "name": "stdout",
     "output_type": "stream",
     "text": [
      "train: 0.4347, val: 0.4521\n",
      "params =  {'colsample_bytree': 0.8, 'learning_rate': 0.05, 'min_child_samples': 50, 'n_estimators': 600, 'num_leaves': 70, 'random_state': 77, 'subsample': 1.0}\n",
      "cols =  ['dow', 'year', 'month', 'holiday_flg', 'min_visitors', 'mean_visitors', 'median_visitors', 'max_visitors', 'count_observations', 'latitude', 'longitude', 'air_genre_name0', 'air_area_name0', 'air_genre_name1', 'air_area_name1', 'air_genre_name2', 'air_area_name2', 'air_genre_name3', 'air_area_name3', 'air_genre_name4', 'air_area_name4', 'air_genre_name5', 'air_area_name5', 'air_genre_name6', 'air_area_name6', 'air_genre_name7', 'air_area_name7', 'air_genre_name8', 'air_area_name8', 'air_genre_name9', 'air_area_name9', 'rs1_x', 'rv1_x', 'rs2_x', 'rv2_x', 'rs1_y', 'rv1_y', 'rs2_y', 'rv2_y', 'total_reserv_sum', 'total_reserv_mean', 'total_reserv_dt_diff_mean', 'date_int', 'var_max_lat', 'var_max_long', 'lon_plus_lat', 'air_store_id2', 'air_store_id_target', 'air_genre_name_target', 'air_area_name_target', 'le1_p', 'le2_p']\n"
     ]
    }
   ],
   "source": [
    "print(f'train: {RMSLE(y_trn, lgb.predict(X_trn)):.4f}, val: {RMSLE(y_val, lgb.predict(X_val)):.4f}')\n",
    "print('params = ', params)\n",
    "print('cols = ', list(X_trn.columns))"
   ]
  },
  {
   "cell_type": "code",
   "execution_count": 96,
   "metadata": {
    "collapsed": true
   },
   "outputs": [],
   "source": [
    "test['visitors'] = np.expm1(lgb.predict(X_tst))\n",
    "filename = '../output/180201_lgb_prelabel2'\n",
    "test[['id', 'visitors']].to_csv(filename+'.csv.gz', index=False, compression='gzip')\n",
    "test[['id', 'visitors']].to_csv(filename+'.csv', index=False)"
   ]
  },
  {
   "cell_type": "code",
   "execution_count": null,
   "metadata": {
    "collapsed": true
   },
   "outputs": [],
   "source": []
  }
 ],
 "metadata": {
  "kernelspec": {
   "display_name": "Python 3",
   "language": "python",
   "name": "python3"
  },
  "language_info": {
   "codemirror_mode": {
    "name": "ipython",
    "version": 3
   },
   "file_extension": ".py",
   "mimetype": "text/x-python",
   "name": "python",
   "nbconvert_exporter": "python",
   "pygments_lexer": "ipython3",
   "version": "3.6.1"
  }
 },
 "nbformat": 4,
 "nbformat_minor": 2
}
