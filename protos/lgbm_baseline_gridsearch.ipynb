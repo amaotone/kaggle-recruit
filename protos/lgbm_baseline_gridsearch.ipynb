{
 "cells": [
  {
   "cell_type": "code",
   "execution_count": 1,
   "metadata": {
    "scrolled": true
   },
   "outputs": [
    {
     "name": "stderr",
     "output_type": "stream",
     "text": [
      "/Users/amane/.pyenv/versions/3.6.1/envs/compe/lib/python3.6/site-packages/sklearn/cross_validation.py:41: DeprecationWarning: This module was deprecated in version 0.18 in favor of the model_selection module into which all the refactored classes and functions are moved. Also note that the interface of the new CV iterators are different from that of this module. This module will be removed in 0.20.\n",
      "  \"This module will be removed in 0.20.\", DeprecationWarning)\n",
      "/Users/amane/.pyenv/versions/3.6.1/envs/compe/lib/python3.6/site-packages/sklearn/grid_search.py:42: DeprecationWarning: This module was deprecated in version 0.18 in favor of the model_selection module into which all the refactored classes and functions are moved. This module will be removed in 0.20.\n",
      "  DeprecationWarning)\n",
      "/Users/amane/.pyenv/versions/3.6.1/envs/compe/lib/python3.6/site-packages/sklearn/learning_curve.py:22: DeprecationWarning: This module was deprecated in version 0.18 in favor of the model_selection module into which all the functions are moved. This module will be removed in 0.20\n",
      "  DeprecationWarning)\n"
     ]
    }
   ],
   "source": [
    "import numpy as np\n",
    "import pandas as pd\n",
    "import matplotlib.pyplot as plt\n",
    "%matplotlib inline\n",
    "\n",
    "pd.set_option('display.max_columns', None)\n",
    "\n",
    "from sklearn import *\n",
    "from lightgbm import LGBMRegressor"
   ]
  },
  {
   "cell_type": "code",
   "execution_count": 6,
   "metadata": {},
   "outputs": [],
   "source": [
    "import pickle\n",
    "with open('dataset.pkl', 'rb') as f:\n",
    "    X_trn, y_trn, X_val, y_val, X_all, y_all, X_tst, val_id = pickle.load(f)"
   ]
  },
  {
   "cell_type": "code",
   "execution_count": 11,
   "metadata": {
    "collapsed": true
   },
   "outputs": [],
   "source": [
    "from sklearn.model_selection import RandomizedSearchCV, PredefinedSplit\n",
    "from sklearn.metrics import make_scorer, mean_squared_error\n",
    "import scipy.stats"
   ]
  },
  {
   "cell_type": "code",
   "execution_count": 8,
   "metadata": {
    "collapsed": true
   },
   "outputs": [],
   "source": [
    "cv = PredefinedSplit((val_id-1).values)"
   ]
  },
  {
   "cell_type": "code",
   "execution_count": 12,
   "metadata": {
    "collapsed": true
   },
   "outputs": [],
   "source": [
    "def RMSLE(y, pred):\n",
    "    return mean_squared_error(y, pred)**0.5"
   ]
  },
  {
   "cell_type": "code",
   "execution_count": null,
   "metadata": {},
   "outputs": [],
   "source": [
    "param_dist = {\n",
    "    'random_state': [77],\n",
    "    'num_leaves': [40, 50, 60, 70, 80, 90, 100], #7\n",
    "    'n_estimators': [200, 300, 400, 500, 600], # 5\n",
    "    'learning_rate': scipy.stats.uniform(0.03, 0.2),\n",
    "    'min_child_samples': scipy.stats.randint(10, 50),\n",
    "    'colsample_bytree': [0.7, 0.8, 0.9, 1.0],\n",
    "    'subsample': [0.7, 0.8, 0.9, 1.0],\n",
    "}\n",
    "rscv = RandomizedSearchCV(LGBMRegressor(), param_dist, n_iter=100, \n",
    "                          scoring=make_scorer(RMSLE,greater_is_better=False),\n",
    "                         cv=cv, verbose=2)"
   ]
  },
  {
   "cell_type": "code",
   "execution_count": 15,
   "metadata": {
    "scrolled": false
   },
   "outputs": [
    {
     "name": "stdout",
     "output_type": "stream",
     "text": [
      "Fitting 1 folds for each of 100 candidates, totalling 100 fits\n",
      "[CV] colsample_bytree=0.7, learning_rate=0.12534346268112684, min_child_samples=21, n_estimators=400, num_leaves=80, random_state=77, subsample=1.0 \n",
      "[CV]  colsample_bytree=0.7, learning_rate=0.12534346268112684, min_child_samples=21, n_estimators=400, num_leaves=80, random_state=77, subsample=1.0, total=  18.7s\n",
      "[CV] colsample_bytree=0.8, learning_rate=0.13279280550440994, min_child_samples=16, n_estimators=700, num_leaves=60, random_state=77, subsample=0.7 \n"
     ]
    },
    {
     "name": "stderr",
     "output_type": "stream",
     "text": [
      "[Parallel(n_jobs=1)]: Done   1 out of   1 | elapsed:   21.2s remaining:    0.0s\n"
     ]
    },
    {
     "name": "stdout",
     "output_type": "stream",
     "text": [
      "[CV]  colsample_bytree=0.8, learning_rate=0.13279280550440994, min_child_samples=16, n_estimators=700, num_leaves=60, random_state=77, subsample=0.7, total=  25.4s\n",
      "[CV] colsample_bytree=1.0, learning_rate=0.2041583194579822, min_child_samples=11, n_estimators=500, num_leaves=60, random_state=77, subsample=0.9 \n",
      "[CV]  colsample_bytree=1.0, learning_rate=0.2041583194579822, min_child_samples=11, n_estimators=500, num_leaves=60, random_state=77, subsample=0.9, total=  18.8s\n",
      "[CV] colsample_bytree=0.9, learning_rate=0.07851175334000232, min_child_samples=11, n_estimators=600, num_leaves=100, random_state=77, subsample=1.0 \n",
      "[CV]  colsample_bytree=0.9, learning_rate=0.07851175334000232, min_child_samples=11, n_estimators=600, num_leaves=100, random_state=77, subsample=1.0, total=  28.4s\n",
      "[CV] colsample_bytree=0.7, learning_rate=0.084645153447793, min_child_samples=20, n_estimators=500, num_leaves=80, random_state=77, subsample=0.8 \n",
      "[CV]  colsample_bytree=0.7, learning_rate=0.084645153447793, min_child_samples=20, n_estimators=500, num_leaves=80, random_state=77, subsample=0.8, total=  29.5s\n",
      "[CV] colsample_bytree=0.8, learning_rate=0.08504765983262375, min_child_samples=33, n_estimators=500, num_leaves=90, random_state=77, subsample=0.9 \n",
      "[CV]  colsample_bytree=0.8, learning_rate=0.08504765983262375, min_child_samples=33, n_estimators=500, num_leaves=90, random_state=77, subsample=0.9, total=  28.0s\n",
      "[CV] colsample_bytree=0.9, learning_rate=0.19359656089633992, min_child_samples=32, n_estimators=600, num_leaves=100, random_state=77, subsample=0.8 \n",
      "[CV]  colsample_bytree=0.9, learning_rate=0.19359656089633992, min_child_samples=32, n_estimators=600, num_leaves=100, random_state=77, subsample=0.8, total=  29.9s\n",
      "[CV] colsample_bytree=0.8, learning_rate=0.03360492239761027, min_child_samples=32, n_estimators=600, num_leaves=40, random_state=77, subsample=0.9 \n",
      "[CV]  colsample_bytree=0.8, learning_rate=0.03360492239761027, min_child_samples=32, n_estimators=600, num_leaves=40, random_state=77, subsample=0.9, total=  26.0s\n",
      "[CV] colsample_bytree=0.8, learning_rate=0.19506484610537186, min_child_samples=23, n_estimators=500, num_leaves=100, random_state=77, subsample=0.8 \n",
      "[CV]  colsample_bytree=0.8, learning_rate=0.19506484610537186, min_child_samples=23, n_estimators=500, num_leaves=100, random_state=77, subsample=0.8, total=  25.9s\n",
      "[CV] colsample_bytree=1.0, learning_rate=0.04823859611776544, min_child_samples=24, n_estimators=500, num_leaves=40, random_state=77, subsample=0.8 \n",
      "[CV]  colsample_bytree=1.0, learning_rate=0.04823859611776544, min_child_samples=24, n_estimators=500, num_leaves=40, random_state=77, subsample=0.8, total=  18.4s\n",
      "[CV] colsample_bytree=0.9, learning_rate=0.1878004981037165, min_child_samples=48, n_estimators=400, num_leaves=60, random_state=77, subsample=0.9 \n",
      "[CV]  colsample_bytree=0.9, learning_rate=0.1878004981037165, min_child_samples=48, n_estimators=400, num_leaves=60, random_state=77, subsample=0.9, total=  21.5s\n",
      "[CV] colsample_bytree=0.7, learning_rate=0.13963911691270564, min_child_samples=25, n_estimators=800, num_leaves=80, random_state=77, subsample=0.8 \n",
      "[CV]  colsample_bytree=0.7, learning_rate=0.13963911691270564, min_child_samples=25, n_estimators=800, num_leaves=80, random_state=77, subsample=0.8, total=  37.4s\n",
      "[CV] colsample_bytree=0.7, learning_rate=0.13381285211030666, min_child_samples=12, n_estimators=400, num_leaves=80, random_state=77, subsample=1.0 \n",
      "[CV]  colsample_bytree=0.7, learning_rate=0.13381285211030666, min_child_samples=12, n_estimators=400, num_leaves=80, random_state=77, subsample=1.0, total=  23.5s\n",
      "[CV] colsample_bytree=1.0, learning_rate=0.12830581450160833, min_child_samples=24, n_estimators=800, num_leaves=80, random_state=77, subsample=0.9 \n",
      "[CV]  colsample_bytree=1.0, learning_rate=0.12830581450160833, min_child_samples=24, n_estimators=800, num_leaves=80, random_state=77, subsample=0.9, total=  32.8s\n",
      "[CV] colsample_bytree=0.9, learning_rate=0.18599516307438246, min_child_samples=31, n_estimators=200, num_leaves=50, random_state=77, subsample=0.9 \n",
      "[CV]  colsample_bytree=0.9, learning_rate=0.18599516307438246, min_child_samples=31, n_estimators=200, num_leaves=50, random_state=77, subsample=0.9, total=   9.3s\n",
      "[CV] colsample_bytree=0.8, learning_rate=0.22749147183424842, min_child_samples=23, n_estimators=400, num_leaves=90, random_state=77, subsample=0.9 \n",
      "[CV]  colsample_bytree=0.8, learning_rate=0.22749147183424842, min_child_samples=23, n_estimators=400, num_leaves=90, random_state=77, subsample=0.9, total=  22.8s\n",
      "[CV] colsample_bytree=0.9, learning_rate=0.17411429632106515, min_child_samples=17, n_estimators=600, num_leaves=90, random_state=77, subsample=1.0 \n",
      "[CV]  colsample_bytree=0.9, learning_rate=0.17411429632106515, min_child_samples=17, n_estimators=600, num_leaves=90, random_state=77, subsample=1.0, total=  27.1s\n",
      "[CV] colsample_bytree=1.0, learning_rate=0.06724569521690146, min_child_samples=29, n_estimators=700, num_leaves=90, random_state=77, subsample=0.7 \n",
      "[CV]  colsample_bytree=1.0, learning_rate=0.06724569521690146, min_child_samples=29, n_estimators=700, num_leaves=90, random_state=77, subsample=0.7, total=  37.6s\n",
      "[CV] colsample_bytree=0.9, learning_rate=0.14356107213711822, min_child_samples=31, n_estimators=800, num_leaves=60, random_state=77, subsample=0.8 \n",
      "[CV]  colsample_bytree=0.9, learning_rate=0.14356107213711822, min_child_samples=31, n_estimators=800, num_leaves=60, random_state=77, subsample=0.8, total=  34.4s\n",
      "[CV] colsample_bytree=1.0, learning_rate=0.14073335757310812, min_child_samples=24, n_estimators=400, num_leaves=100, random_state=77, subsample=0.9 \n",
      "[CV]  colsample_bytree=1.0, learning_rate=0.14073335757310812, min_child_samples=24, n_estimators=400, num_leaves=100, random_state=77, subsample=0.9, total=  20.8s\n",
      "[CV] colsample_bytree=1.0, learning_rate=0.1716650854796434, min_child_samples=29, n_estimators=800, num_leaves=70, random_state=77, subsample=0.8 \n",
      "[CV]  colsample_bytree=1.0, learning_rate=0.1716650854796434, min_child_samples=29, n_estimators=800, num_leaves=70, random_state=77, subsample=0.8, total=  30.5s\n",
      "[CV] colsample_bytree=0.7, learning_rate=0.15448608690993426, min_child_samples=42, n_estimators=400, num_leaves=70, random_state=77, subsample=1.0 \n",
      "[CV]  colsample_bytree=0.7, learning_rate=0.15448608690993426, min_child_samples=42, n_estimators=400, num_leaves=70, random_state=77, subsample=1.0, total=  16.9s\n",
      "[CV] colsample_bytree=0.8, learning_rate=0.05756079449277782, min_child_samples=46, n_estimators=800, num_leaves=100, random_state=77, subsample=1.0 \n",
      "[CV]  colsample_bytree=0.8, learning_rate=0.05756079449277782, min_child_samples=46, n_estimators=800, num_leaves=100, random_state=77, subsample=1.0, total=  43.8s\n",
      "[CV] colsample_bytree=0.7, learning_rate=0.21775039405345406, min_child_samples=27, n_estimators=600, num_leaves=100, random_state=77, subsample=0.9 \n",
      "[CV]  colsample_bytree=0.7, learning_rate=0.21775039405345406, min_child_samples=27, n_estimators=600, num_leaves=100, random_state=77, subsample=0.9, total=  30.4s\n",
      "[CV] colsample_bytree=1.0, learning_rate=0.11854210033766524, min_child_samples=39, n_estimators=300, num_leaves=40, random_state=77, subsample=0.8 \n",
      "[CV]  colsample_bytree=1.0, learning_rate=0.11854210033766524, min_child_samples=39, n_estimators=300, num_leaves=40, random_state=77, subsample=0.8, total=  10.7s\n",
      "[CV] colsample_bytree=0.8, learning_rate=0.20046485459862948, min_child_samples=14, n_estimators=300, num_leaves=70, random_state=77, subsample=0.8 \n",
      "[CV]  colsample_bytree=0.8, learning_rate=0.20046485459862948, min_child_samples=14, n_estimators=300, num_leaves=70, random_state=77, subsample=0.8, total=  11.6s\n",
      "[CV] colsample_bytree=0.7, learning_rate=0.06622614229201244, min_child_samples=34, n_estimators=700, num_leaves=50, random_state=77, subsample=0.7 \n",
      "[CV]  colsample_bytree=0.7, learning_rate=0.06622614229201244, min_child_samples=34, n_estimators=700, num_leaves=50, random_state=77, subsample=0.7, total=  23.6s\n",
      "[CV] colsample_bytree=0.9, learning_rate=0.16568093245254728, min_child_samples=49, n_estimators=400, num_leaves=40, random_state=77, subsample=0.8 \n",
      "[CV]  colsample_bytree=0.9, learning_rate=0.16568093245254728, min_child_samples=49, n_estimators=400, num_leaves=40, random_state=77, subsample=0.8, total=  12.1s\n",
      "[CV] colsample_bytree=0.8, learning_rate=0.19399447433482267, min_child_samples=49, n_estimators=400, num_leaves=60, random_state=77, subsample=0.8 \n"
     ]
    },
    {
     "name": "stdout",
     "output_type": "stream",
     "text": [
      "[CV]  colsample_bytree=0.8, learning_rate=0.19399447433482267, min_child_samples=49, n_estimators=400, num_leaves=60, random_state=77, subsample=0.8, total=  17.9s\n",
      "[CV] colsample_bytree=1.0, learning_rate=0.055339382561021, min_child_samples=44, n_estimators=300, num_leaves=70, random_state=77, subsample=0.8 \n",
      "[CV]  colsample_bytree=1.0, learning_rate=0.055339382561021, min_child_samples=44, n_estimators=300, num_leaves=70, random_state=77, subsample=0.8, total=  15.9s\n",
      "[CV] colsample_bytree=1.0, learning_rate=0.1264119443004379, min_child_samples=33, n_estimators=600, num_leaves=50, random_state=77, subsample=0.8 \n",
      "[CV]  colsample_bytree=1.0, learning_rate=0.1264119443004379, min_child_samples=33, n_estimators=600, num_leaves=50, random_state=77, subsample=0.8, total=  27.9s\n",
      "[CV] colsample_bytree=1.0, learning_rate=0.16610875643889728, min_child_samples=47, n_estimators=600, num_leaves=100, random_state=77, subsample=0.9 \n",
      "[CV]  colsample_bytree=1.0, learning_rate=0.16610875643889728, min_child_samples=47, n_estimators=600, num_leaves=100, random_state=77, subsample=0.9, total=  30.3s\n",
      "[CV] colsample_bytree=0.7, learning_rate=0.1812873572526176, min_child_samples=40, n_estimators=800, num_leaves=90, random_state=77, subsample=1.0 \n",
      "[CV]  colsample_bytree=0.7, learning_rate=0.1812873572526176, min_child_samples=40, n_estimators=800, num_leaves=90, random_state=77, subsample=1.0, total=  38.9s\n",
      "[CV] colsample_bytree=1.0, learning_rate=0.051299212216185004, min_child_samples=33, n_estimators=700, num_leaves=70, random_state=77, subsample=0.9 \n",
      "[CV]  colsample_bytree=1.0, learning_rate=0.051299212216185004, min_child_samples=33, n_estimators=700, num_leaves=70, random_state=77, subsample=0.9, total=  28.6s\n",
      "[CV] colsample_bytree=1.0, learning_rate=0.04197530945181062, min_child_samples=26, n_estimators=800, num_leaves=40, random_state=77, subsample=0.8 \n",
      "[CV]  colsample_bytree=1.0, learning_rate=0.04197530945181062, min_child_samples=26, n_estimators=800, num_leaves=40, random_state=77, subsample=0.8, total=  24.1s\n",
      "[CV] colsample_bytree=0.9, learning_rate=0.05885913424073741, min_child_samples=27, n_estimators=700, num_leaves=50, random_state=77, subsample=1.0 \n",
      "[CV]  colsample_bytree=0.9, learning_rate=0.05885913424073741, min_child_samples=27, n_estimators=700, num_leaves=50, random_state=77, subsample=1.0, total=  21.7s\n",
      "[CV] colsample_bytree=0.9, learning_rate=0.11400572696420061, min_child_samples=15, n_estimators=600, num_leaves=50, random_state=77, subsample=0.9 \n",
      "[CV]  colsample_bytree=0.9, learning_rate=0.11400572696420061, min_child_samples=15, n_estimators=600, num_leaves=50, random_state=77, subsample=0.9, total=  24.9s\n",
      "[CV] colsample_bytree=0.9, learning_rate=0.16102535849107566, min_child_samples=19, n_estimators=700, num_leaves=70, random_state=77, subsample=0.9 \n",
      "[CV]  colsample_bytree=0.9, learning_rate=0.16102535849107566, min_child_samples=19, n_estimators=700, num_leaves=70, random_state=77, subsample=0.9, total=  29.4s\n",
      "[CV] colsample_bytree=1.0, learning_rate=0.20320307680162017, min_child_samples=43, n_estimators=400, num_leaves=40, random_state=77, subsample=0.8 \n",
      "[CV]  colsample_bytree=1.0, learning_rate=0.20320307680162017, min_child_samples=43, n_estimators=400, num_leaves=40, random_state=77, subsample=0.8, total=  12.5s\n",
      "[CV] colsample_bytree=0.8, learning_rate=0.1637981206466978, min_child_samples=13, n_estimators=300, num_leaves=70, random_state=77, subsample=1.0 \n",
      "[CV]  colsample_bytree=0.8, learning_rate=0.1637981206466978, min_child_samples=13, n_estimators=300, num_leaves=70, random_state=77, subsample=1.0, total=  11.3s\n",
      "[CV] colsample_bytree=0.8, learning_rate=0.06663579517885247, min_child_samples=10, n_estimators=500, num_leaves=80, random_state=77, subsample=0.7 \n",
      "[CV]  colsample_bytree=0.8, learning_rate=0.06663579517885247, min_child_samples=10, n_estimators=500, num_leaves=80, random_state=77, subsample=0.7, total=  24.7s\n",
      "[CV] colsample_bytree=0.7, learning_rate=0.19059314826887924, min_child_samples=34, n_estimators=500, num_leaves=80, random_state=77, subsample=0.9 \n",
      "[CV]  colsample_bytree=0.7, learning_rate=0.19059314826887924, min_child_samples=34, n_estimators=500, num_leaves=80, random_state=77, subsample=0.9, total=  19.8s\n",
      "[CV] colsample_bytree=1.0, learning_rate=0.19245858866989607, min_child_samples=31, n_estimators=200, num_leaves=70, random_state=77, subsample=0.8 \n",
      "[CV]  colsample_bytree=1.0, learning_rate=0.19245858866989607, min_child_samples=31, n_estimators=200, num_leaves=70, random_state=77, subsample=0.8, total=   8.1s\n",
      "[CV] colsample_bytree=1.0, learning_rate=0.16837099630068483, min_child_samples=12, n_estimators=700, num_leaves=40, random_state=77, subsample=0.9 \n",
      "[CV]  colsample_bytree=1.0, learning_rate=0.16837099630068483, min_child_samples=12, n_estimators=700, num_leaves=40, random_state=77, subsample=0.9, total=  22.1s\n",
      "[CV] colsample_bytree=0.7, learning_rate=0.06753968043957442, min_child_samples=31, n_estimators=200, num_leaves=90, random_state=77, subsample=0.7 \n",
      "[CV]  colsample_bytree=0.7, learning_rate=0.06753968043957442, min_child_samples=31, n_estimators=200, num_leaves=90, random_state=77, subsample=0.7, total=  10.6s\n",
      "[CV] colsample_bytree=0.8, learning_rate=0.18801924017381275, min_child_samples=49, n_estimators=800, num_leaves=80, random_state=77, subsample=0.8 \n",
      "[CV]  colsample_bytree=0.8, learning_rate=0.18801924017381275, min_child_samples=49, n_estimators=800, num_leaves=80, random_state=77, subsample=0.8, total=  33.3s\n",
      "[CV] colsample_bytree=1.0, learning_rate=0.032541930802618864, min_child_samples=31, n_estimators=800, num_leaves=70, random_state=77, subsample=0.9 \n",
      "[CV]  colsample_bytree=1.0, learning_rate=0.032541930802618864, min_child_samples=31, n_estimators=800, num_leaves=70, random_state=77, subsample=0.9, total=  38.3s\n",
      "[CV] colsample_bytree=0.9, learning_rate=0.17507273294074818, min_child_samples=18, n_estimators=400, num_leaves=70, random_state=77, subsample=1.0 \n",
      "[CV]  colsample_bytree=0.9, learning_rate=0.17507273294074818, min_child_samples=18, n_estimators=400, num_leaves=70, random_state=77, subsample=1.0, total=  20.9s\n",
      "[CV] colsample_bytree=1.0, learning_rate=0.11530966030295195, min_child_samples=23, n_estimators=600, num_leaves=90, random_state=77, subsample=0.9 \n",
      "[CV]  colsample_bytree=1.0, learning_rate=0.11530966030295195, min_child_samples=23, n_estimators=600, num_leaves=90, random_state=77, subsample=0.9, total=  32.9s\n",
      "[CV] colsample_bytree=1.0, learning_rate=0.2029809499264472, min_child_samples=28, n_estimators=500, num_leaves=40, random_state=77, subsample=1.0 \n",
      "[CV]  colsample_bytree=1.0, learning_rate=0.2029809499264472, min_child_samples=28, n_estimators=500, num_leaves=40, random_state=77, subsample=1.0, total=  16.1s\n",
      "[CV] colsample_bytree=1.0, learning_rate=0.14305039914956527, min_child_samples=11, n_estimators=800, num_leaves=50, random_state=77, subsample=0.9 \n",
      "[CV]  colsample_bytree=1.0, learning_rate=0.14305039914956527, min_child_samples=11, n_estimators=800, num_leaves=50, random_state=77, subsample=0.9, total=  33.1s\n",
      "[CV] colsample_bytree=0.9, learning_rate=0.10391640813442483, min_child_samples=17, n_estimators=300, num_leaves=70, random_state=77, subsample=0.9 \n",
      "[CV]  colsample_bytree=0.9, learning_rate=0.10391640813442483, min_child_samples=17, n_estimators=300, num_leaves=70, random_state=77, subsample=0.9, total=  14.9s\n",
      "[CV] colsample_bytree=0.9, learning_rate=0.22031438426439268, min_child_samples=38, n_estimators=700, num_leaves=50, random_state=77, subsample=0.8 \n",
      "[CV]  colsample_bytree=0.9, learning_rate=0.22031438426439268, min_child_samples=38, n_estimators=700, num_leaves=50, random_state=77, subsample=0.8, total=  31.8s\n",
      "[CV] colsample_bytree=0.8, learning_rate=0.1677075570378895, min_child_samples=29, n_estimators=600, num_leaves=50, random_state=77, subsample=0.7 \n",
      "[CV]  colsample_bytree=0.8, learning_rate=0.1677075570378895, min_child_samples=29, n_estimators=600, num_leaves=50, random_state=77, subsample=0.7, total=  19.1s\n",
      "[CV] colsample_bytree=1.0, learning_rate=0.16601312546084096, min_child_samples=18, n_estimators=200, num_leaves=70, random_state=77, subsample=0.7 \n",
      "[CV]  colsample_bytree=1.0, learning_rate=0.16601312546084096, min_child_samples=18, n_estimators=200, num_leaves=70, random_state=77, subsample=0.7, total=   9.1s\n",
      "[CV] colsample_bytree=0.7, learning_rate=0.12162382399110772, min_child_samples=12, n_estimators=800, num_leaves=60, random_state=77, subsample=0.9 \n"
     ]
    },
    {
     "name": "stdout",
     "output_type": "stream",
     "text": [
      "[CV]  colsample_bytree=0.7, learning_rate=0.12162382399110772, min_child_samples=12, n_estimators=800, num_leaves=60, random_state=77, subsample=0.9, total=  29.8s\n",
      "[CV] colsample_bytree=1.0, learning_rate=0.10773889440672199, min_child_samples=24, n_estimators=200, num_leaves=90, random_state=77, subsample=0.7 \n",
      "[CV]  colsample_bytree=1.0, learning_rate=0.10773889440672199, min_child_samples=24, n_estimators=200, num_leaves=90, random_state=77, subsample=0.7, total=  10.6s\n",
      "[CV] colsample_bytree=0.9, learning_rate=0.039527900223209636, min_child_samples=21, n_estimators=800, num_leaves=80, random_state=77, subsample=0.8 \n",
      "[CV]  colsample_bytree=0.9, learning_rate=0.039527900223209636, min_child_samples=21, n_estimators=800, num_leaves=80, random_state=77, subsample=0.8, total=  39.6s\n",
      "[CV] colsample_bytree=0.9, learning_rate=0.0753633520425182, min_child_samples=43, n_estimators=200, num_leaves=50, random_state=77, subsample=0.7 \n",
      "[CV]  colsample_bytree=0.9, learning_rate=0.0753633520425182, min_child_samples=43, n_estimators=200, num_leaves=50, random_state=77, subsample=0.7, total=   8.7s\n",
      "[CV] colsample_bytree=1.0, learning_rate=0.0377604450223979, min_child_samples=15, n_estimators=600, num_leaves=80, random_state=77, subsample=0.7 \n",
      "[CV]  colsample_bytree=1.0, learning_rate=0.0377604450223979, min_child_samples=15, n_estimators=600, num_leaves=80, random_state=77, subsample=0.7, total=  27.7s\n",
      "[CV] colsample_bytree=0.9, learning_rate=0.08276404250034783, min_child_samples=41, n_estimators=500, num_leaves=40, random_state=77, subsample=0.9 \n",
      "[CV]  colsample_bytree=0.9, learning_rate=0.08276404250034783, min_child_samples=41, n_estimators=500, num_leaves=40, random_state=77, subsample=0.9, total=  17.1s\n",
      "[CV] colsample_bytree=0.8, learning_rate=0.16534972844525045, min_child_samples=24, n_estimators=300, num_leaves=100, random_state=77, subsample=0.9 \n",
      "[CV]  colsample_bytree=0.8, learning_rate=0.16534972844525045, min_child_samples=24, n_estimators=300, num_leaves=100, random_state=77, subsample=0.9, total=  17.7s\n",
      "[CV] colsample_bytree=0.8, learning_rate=0.14411874012293435, min_child_samples=25, n_estimators=400, num_leaves=40, random_state=77, subsample=0.7 \n",
      "[CV]  colsample_bytree=0.8, learning_rate=0.14411874012293435, min_child_samples=25, n_estimators=400, num_leaves=40, random_state=77, subsample=0.7, total=  13.3s\n",
      "[CV] colsample_bytree=0.9, learning_rate=0.04336683941669867, min_child_samples=21, n_estimators=800, num_leaves=50, random_state=77, subsample=0.9 \n",
      "[CV]  colsample_bytree=0.9, learning_rate=0.04336683941669867, min_child_samples=21, n_estimators=800, num_leaves=50, random_state=77, subsample=0.9, total=  30.6s\n",
      "[CV] colsample_bytree=0.9, learning_rate=0.08845382779093197, min_child_samples=17, n_estimators=700, num_leaves=70, random_state=77, subsample=0.8 \n",
      "[CV]  colsample_bytree=0.9, learning_rate=0.08845382779093197, min_child_samples=17, n_estimators=700, num_leaves=70, random_state=77, subsample=0.8, total=  30.9s\n",
      "[CV] colsample_bytree=1.0, learning_rate=0.03243092121408219, min_child_samples=41, n_estimators=800, num_leaves=40, random_state=77, subsample=1.0 \n",
      "[CV]  colsample_bytree=1.0, learning_rate=0.03243092121408219, min_child_samples=41, n_estimators=800, num_leaves=40, random_state=77, subsample=1.0, total=  35.1s\n",
      "[CV] colsample_bytree=0.7, learning_rate=0.0474811434913583, min_child_samples=43, n_estimators=400, num_leaves=90, random_state=77, subsample=0.7 \n",
      "[CV]  colsample_bytree=0.7, learning_rate=0.0474811434913583, min_child_samples=43, n_estimators=400, num_leaves=90, random_state=77, subsample=0.7, total=  27.9s\n",
      "[CV] colsample_bytree=0.9, learning_rate=0.2239335686485686, min_child_samples=14, n_estimators=800, num_leaves=80, random_state=77, subsample=0.7 \n",
      "[CV]  colsample_bytree=0.9, learning_rate=0.2239335686485686, min_child_samples=14, n_estimators=800, num_leaves=80, random_state=77, subsample=0.7, total=  43.5s\n",
      "[CV] colsample_bytree=1.0, learning_rate=0.17166434255964577, min_child_samples=38, n_estimators=400, num_leaves=50, random_state=77, subsample=0.8 \n",
      "[CV]  colsample_bytree=1.0, learning_rate=0.17166434255964577, min_child_samples=38, n_estimators=400, num_leaves=50, random_state=77, subsample=0.8, total=  17.9s\n",
      "[CV] colsample_bytree=0.9, learning_rate=0.15670538010803417, min_child_samples=16, n_estimators=600, num_leaves=40, random_state=77, subsample=0.8 \n",
      "[CV]  colsample_bytree=0.9, learning_rate=0.15670538010803417, min_child_samples=16, n_estimators=600, num_leaves=40, random_state=77, subsample=0.8, total=  26.8s\n",
      "[CV] colsample_bytree=0.7, learning_rate=0.2009945515914313, min_child_samples=36, n_estimators=500, num_leaves=60, random_state=77, subsample=0.7 \n",
      "[CV]  colsample_bytree=0.7, learning_rate=0.2009945515914313, min_child_samples=36, n_estimators=500, num_leaves=60, random_state=77, subsample=0.7, total=  19.3s\n",
      "[CV] colsample_bytree=0.8, learning_rate=0.04138408737699723, min_child_samples=24, n_estimators=200, num_leaves=70, random_state=77, subsample=0.7 \n",
      "[CV]  colsample_bytree=0.8, learning_rate=0.04138408737699723, min_child_samples=24, n_estimators=200, num_leaves=70, random_state=77, subsample=0.7, total=  11.3s\n",
      "[CV] colsample_bytree=1.0, learning_rate=0.18097605830716806, min_child_samples=27, n_estimators=300, num_leaves=100, random_state=77, subsample=0.8 \n",
      "[CV]  colsample_bytree=1.0, learning_rate=0.18097605830716806, min_child_samples=27, n_estimators=300, num_leaves=100, random_state=77, subsample=0.8, total=  15.9s\n",
      "[CV] colsample_bytree=0.8, learning_rate=0.21928208786121273, min_child_samples=38, n_estimators=800, num_leaves=40, random_state=77, subsample=0.9 \n",
      "[CV]  colsample_bytree=0.8, learning_rate=0.21928208786121273, min_child_samples=38, n_estimators=800, num_leaves=40, random_state=77, subsample=0.9, total=  28.5s\n",
      "[CV] colsample_bytree=0.7, learning_rate=0.1489561891555835, min_child_samples=26, n_estimators=700, num_leaves=80, random_state=77, subsample=0.8 \n",
      "[CV]  colsample_bytree=0.7, learning_rate=0.1489561891555835, min_child_samples=26, n_estimators=700, num_leaves=80, random_state=77, subsample=0.8, total=  35.6s\n",
      "[CV] colsample_bytree=0.9, learning_rate=0.22557750414392025, min_child_samples=19, n_estimators=800, num_leaves=90, random_state=77, subsample=1.0 \n",
      "[CV]  colsample_bytree=0.9, learning_rate=0.22557750414392025, min_child_samples=19, n_estimators=800, num_leaves=90, random_state=77, subsample=1.0, total=  36.1s\n",
      "[CV] colsample_bytree=0.9, learning_rate=0.05530480586775666, min_child_samples=35, n_estimators=600, num_leaves=60, random_state=77, subsample=0.9 \n",
      "[CV]  colsample_bytree=0.9, learning_rate=0.05530480586775666, min_child_samples=35, n_estimators=600, num_leaves=60, random_state=77, subsample=0.9, total=  30.8s\n",
      "[CV] colsample_bytree=1.0, learning_rate=0.12029330316574718, min_child_samples=21, n_estimators=800, num_leaves=60, random_state=77, subsample=0.8 \n",
      "[CV]  colsample_bytree=1.0, learning_rate=0.12029330316574718, min_child_samples=21, n_estimators=800, num_leaves=60, random_state=77, subsample=0.8, total=  31.9s\n",
      "[CV] colsample_bytree=0.9, learning_rate=0.15211243454242088, min_child_samples=29, n_estimators=300, num_leaves=90, random_state=77, subsample=0.7 \n",
      "[CV]  colsample_bytree=0.9, learning_rate=0.15211243454242088, min_child_samples=29, n_estimators=300, num_leaves=90, random_state=77, subsample=0.7, total=  13.1s\n",
      "[CV] colsample_bytree=0.8, learning_rate=0.07293279723670834, min_child_samples=15, n_estimators=200, num_leaves=50, random_state=77, subsample=1.0 \n",
      "[CV]  colsample_bytree=0.8, learning_rate=0.07293279723670834, min_child_samples=15, n_estimators=200, num_leaves=50, random_state=77, subsample=1.0, total=   7.6s\n",
      "[CV] colsample_bytree=0.8, learning_rate=0.046812657228478716, min_child_samples=30, n_estimators=800, num_leaves=70, random_state=77, subsample=0.7 \n",
      "[CV]  colsample_bytree=0.8, learning_rate=0.046812657228478716, min_child_samples=30, n_estimators=800, num_leaves=70, random_state=77, subsample=0.7, total=  32.4s\n",
      "[CV] colsample_bytree=0.9, learning_rate=0.16750767184664364, min_child_samples=43, n_estimators=600, num_leaves=90, random_state=77, subsample=0.8 \n",
      "[CV]  colsample_bytree=0.9, learning_rate=0.16750767184664364, min_child_samples=43, n_estimators=600, num_leaves=90, random_state=77, subsample=0.8, total=  28.0s\n",
      "[CV] colsample_bytree=0.9, learning_rate=0.14379595280440344, min_child_samples=25, n_estimators=800, num_leaves=100, random_state=77, subsample=0.9 \n"
     ]
    },
    {
     "name": "stdout",
     "output_type": "stream",
     "text": [
      "[CV]  colsample_bytree=0.9, learning_rate=0.14379595280440344, min_child_samples=25, n_estimators=800, num_leaves=100, random_state=77, subsample=0.9, total=  38.9s\n",
      "[CV] colsample_bytree=0.7, learning_rate=0.18601032671888362, min_child_samples=45, n_estimators=700, num_leaves=90, random_state=77, subsample=1.0 \n",
      "[CV]  colsample_bytree=0.7, learning_rate=0.18601032671888362, min_child_samples=45, n_estimators=700, num_leaves=90, random_state=77, subsample=1.0, total=  30.8s\n",
      "[CV] colsample_bytree=0.8, learning_rate=0.05193627249280365, min_child_samples=43, n_estimators=500, num_leaves=80, random_state=77, subsample=0.7 \n",
      "[CV]  colsample_bytree=0.8, learning_rate=0.05193627249280365, min_child_samples=43, n_estimators=500, num_leaves=80, random_state=77, subsample=0.7, total=  25.5s\n",
      "[CV] colsample_bytree=0.9, learning_rate=0.03924409211004244, min_child_samples=20, n_estimators=700, num_leaves=70, random_state=77, subsample=0.7 \n",
      "[CV]  colsample_bytree=0.9, learning_rate=0.03924409211004244, min_child_samples=20, n_estimators=700, num_leaves=70, random_state=77, subsample=0.7, total=  38.3s\n",
      "[CV] colsample_bytree=0.8, learning_rate=0.1131734427247448, min_child_samples=16, n_estimators=200, num_leaves=40, random_state=77, subsample=1.0 \n",
      "[CV]  colsample_bytree=0.8, learning_rate=0.1131734427247448, min_child_samples=16, n_estimators=200, num_leaves=40, random_state=77, subsample=1.0, total=   8.7s\n",
      "[CV] colsample_bytree=1.0, learning_rate=0.1611775484087775, min_child_samples=11, n_estimators=600, num_leaves=90, random_state=77, subsample=0.8 \n",
      "[CV]  colsample_bytree=1.0, learning_rate=0.1611775484087775, min_child_samples=11, n_estimators=600, num_leaves=90, random_state=77, subsample=0.8, total=  26.4s\n",
      "[CV] colsample_bytree=1.0, learning_rate=0.0939583880924951, min_child_samples=35, n_estimators=800, num_leaves=50, random_state=77, subsample=0.7 \n",
      "[CV]  colsample_bytree=1.0, learning_rate=0.0939583880924951, min_child_samples=35, n_estimators=800, num_leaves=50, random_state=77, subsample=0.7, total=  28.8s\n",
      "[CV] colsample_bytree=0.9, learning_rate=0.16898772747177468, min_child_samples=48, n_estimators=600, num_leaves=80, random_state=77, subsample=0.8 \n",
      "[CV]  colsample_bytree=0.9, learning_rate=0.16898772747177468, min_child_samples=48, n_estimators=600, num_leaves=80, random_state=77, subsample=0.8, total=  27.1s\n",
      "[CV] colsample_bytree=0.9, learning_rate=0.06557983478093492, min_child_samples=49, n_estimators=500, num_leaves=80, random_state=77, subsample=0.9 \n",
      "[CV]  colsample_bytree=0.9, learning_rate=0.06557983478093492, min_child_samples=49, n_estimators=500, num_leaves=80, random_state=77, subsample=0.9, total=  26.0s\n",
      "[CV] colsample_bytree=0.7, learning_rate=0.0462476432908383, min_child_samples=37, n_estimators=600, num_leaves=60, random_state=77, subsample=1.0 \n",
      "[CV]  colsample_bytree=0.7, learning_rate=0.0462476432908383, min_child_samples=37, n_estimators=600, num_leaves=60, random_state=77, subsample=1.0, total=  22.4s\n",
      "[CV] colsample_bytree=0.9, learning_rate=0.2055399814829929, min_child_samples=22, n_estimators=800, num_leaves=50, random_state=77, subsample=0.9 \n",
      "[CV]  colsample_bytree=0.9, learning_rate=0.2055399814829929, min_child_samples=22, n_estimators=800, num_leaves=50, random_state=77, subsample=0.9, total=  28.1s\n",
      "[CV] colsample_bytree=1.0, learning_rate=0.08022932817992653, min_child_samples=38, n_estimators=700, num_leaves=90, random_state=77, subsample=0.7 \n",
      "[CV]  colsample_bytree=1.0, learning_rate=0.08022932817992653, min_child_samples=38, n_estimators=700, num_leaves=90, random_state=77, subsample=0.7, total=  41.5s\n",
      "[CV] colsample_bytree=0.8, learning_rate=0.2214892429506264, min_child_samples=41, n_estimators=700, num_leaves=80, random_state=77, subsample=0.9 \n",
      "[CV]  colsample_bytree=0.8, learning_rate=0.2214892429506264, min_child_samples=41, n_estimators=700, num_leaves=80, random_state=77, subsample=0.9, total=  25.8s\n",
      "[CV] colsample_bytree=1.0, learning_rate=0.11268269050972826, min_child_samples=15, n_estimators=500, num_leaves=60, random_state=77, subsample=1.0 \n",
      "[CV]  colsample_bytree=1.0, learning_rate=0.11268269050972826, min_child_samples=15, n_estimators=500, num_leaves=60, random_state=77, subsample=1.0, total=  15.1s\n",
      "[CV] colsample_bytree=0.9, learning_rate=0.07490378165941272, min_child_samples=31, n_estimators=800, num_leaves=50, random_state=77, subsample=0.8 \n",
      "[CV]  colsample_bytree=0.9, learning_rate=0.07490378165941272, min_child_samples=31, n_estimators=800, num_leaves=50, random_state=77, subsample=0.8, total=  23.5s\n",
      "[CV] colsample_bytree=0.7, learning_rate=0.07852325955609267, min_child_samples=41, n_estimators=700, num_leaves=70, random_state=77, subsample=1.0 \n",
      "[CV]  colsample_bytree=0.7, learning_rate=0.07852325955609267, min_child_samples=41, n_estimators=700, num_leaves=70, random_state=77, subsample=1.0, total=  23.5s\n",
      "[CV] colsample_bytree=0.8, learning_rate=0.12240545917914467, min_child_samples=37, n_estimators=700, num_leaves=50, random_state=77, subsample=0.7 \n",
      "[CV]  colsample_bytree=0.8, learning_rate=0.12240545917914467, min_child_samples=37, n_estimators=700, num_leaves=50, random_state=77, subsample=0.7, total=  25.0s\n",
      "[CV] colsample_bytree=1.0, learning_rate=0.18214015266792757, min_child_samples=39, n_estimators=700, num_leaves=60, random_state=77, subsample=0.8 \n",
      "[CV]  colsample_bytree=1.0, learning_rate=0.18214015266792757, min_child_samples=39, n_estimators=700, num_leaves=60, random_state=77, subsample=0.8, total=  30.5s\n"
     ]
    },
    {
     "name": "stderr",
     "output_type": "stream",
     "text": [
      "[Parallel(n_jobs=1)]: Done 100 out of 100 | elapsed: 48.8min finished\n"
     ]
    },
    {
     "data": {
      "text/plain": [
       "RandomizedSearchCV(cv=PredefinedSplit(test_fold=array([-1, -1, ...,  0,  0], dtype=int64)),\n",
       "          error_score='raise',\n",
       "          estimator=LGBMRegressor(boosting_type='gbdt', class_weight=None, colsample_bytree=1.0,\n",
       "       learning_rate=0.1, max_depth=-1, min_child_samples=20,\n",
       "       min_child_weight=0.001, min_split_gain=0.0, n_estimators=100,\n",
       "       n_jobs=-1, num_leaves=31, objective=None, random_state=None,\n",
       "       reg_alpha=0.0, reg_lambda=0.0, silent=True, subsample=1.0,\n",
       "       subsample_for_bin=200000, subsample_freq=1),\n",
       "          fit_params=None, iid=True, n_iter=100, n_jobs=1,\n",
       "          param_distributions={'random_state': [77], 'num_leaves': [40, 50, 60, 70, 80, 90, 100], 'n_estimators': [200, 300, 400, 500, 600, 700, 800], 'learning_rate': <scipy.stats._distn_infrastructure.rv_frozen object at 0x10674ff98>, 'min_child_samples': <scipy.stats._distn_infrastructure.rv_frozen object at 0x10674f7b8>, 'colsample_bytree': [0.7, 0.8, 0.9, 1.0], 'subsample': [0.7, 0.8, 0.9, 1.0]},\n",
       "          pre_dispatch='2*n_jobs', random_state=None, refit=True,\n",
       "          return_train_score='warn',\n",
       "          scoring=make_scorer(RMSLE, greater_is_better=False), verbose=2)"
      ]
     },
     "execution_count": 15,
     "metadata": {},
     "output_type": "execute_result"
    }
   ],
   "source": [
    "rscv.fit(X_all, y_all)"
   ]
  },
  {
   "cell_type": "code",
   "execution_count": 18,
   "metadata": {},
   "outputs": [
    {
     "data": {
      "text/plain": [
       "{'colsample_bytree': 1.0,\n",
       " 'learning_rate': 0.04823859611776544,\n",
       " 'min_child_samples': 24,\n",
       " 'n_estimators': 500,\n",
       " 'num_leaves': 40,\n",
       " 'random_state': 77,\n",
       " 'subsample': 0.8}"
      ]
     },
     "execution_count": 18,
     "metadata": {},
     "output_type": "execute_result"
    }
   ],
   "source": [
    "rscv.best_params_"
   ]
  },
  {
   "cell_type": "code",
   "execution_count": 19,
   "metadata": {},
   "outputs": [
    {
     "data": {
      "text/plain": [
       "-0.5083587649114817"
      ]
     },
     "execution_count": 19,
     "metadata": {},
     "output_type": "execute_result"
    }
   ],
   "source": [
    "rscv.best_score_"
   ]
  },
  {
   "cell_type": "code",
   "execution_count": 96,
   "metadata": {},
   "outputs": [
    {
     "name": "stdout",
     "output_type": "stream",
     "text": [
      "# params\n",
      "{'colsample_bytree': 0.8, 'learning_rate': 0.12101431676613092, 'min_child_samples': 17, 'n_estimators': 600, 'num_leaves': 70, 'random_state': 77, 'subsample': 1.0}\n",
      "\n",
      "# descriptors\n",
      "['dow', 'year', 'month', 'day_of_week', 'holiday_flg', 'min_visitors', 'mean_visitors', 'median_visitors', 'max_visitors', 'count_observations', 'latitude', 'longitude', 'rs1_x', 'rv1_x', 'rs2_x', 'rv2_x', 'rs1_y', 'rv1_y', 'rs2_y', 'rv2_y', 'total_reserv_sum', 'total_reserv_mean', 'total_reserv_dt_diff_mean', 'date_int', 'var_max_lat', 'var_max_long', 'lon_plus_lat', 'air_store_id_target_mean', 'air_store_id_target_std', 'air_genre_name_target_mean', 'air_genre_name_target_std', 'air_area_name_target_mean', 'air_area_name_target_std']\n"
     ]
    }
   ],
   "source": [
    "# print('train', RMSLE(y_trn, lgb.predict(X_trn)))\n",
    "# print('valid', RMSLE(y_val, lgb.predict(X_val)))\n",
    "\n",
    "print('# params')\n",
    "print(rscv.best_params_)\n",
    "print()\n",
    "print('# descriptors')\n",
    "print(list(X_trn.columns))"
   ]
  },
  {
   "cell_type": "code",
   "execution_count": 97,
   "metadata": {
    "collapsed": true
   },
   "outputs": [],
   "source": [
    "test['visitors'] = np.expm1(lgb.predict(X_tst))\n",
    "filename = '../output/180128_lgb5'\n",
    "test[['id', 'visitors']].to_csv(filename+'.csv.gz', index=False, compression='gzip')"
   ]
  },
  {
   "cell_type": "code",
   "execution_count": null,
   "metadata": {
    "collapsed": true
   },
   "outputs": [],
   "source": []
  }
 ],
 "metadata": {
  "kernelspec": {
   "display_name": "Python 3",
   "language": "python",
   "name": "python3"
  },
  "language_info": {
   "codemirror_mode": {
    "name": "ipython",
    "version": 3
   },
   "file_extension": ".py",
   "mimetype": "text/x-python",
   "name": "python",
   "nbconvert_exporter": "python",
   "pygments_lexer": "ipython3",
   "version": "3.6.1"
  }
 },
 "nbformat": 4,
 "nbformat_minor": 2
}
