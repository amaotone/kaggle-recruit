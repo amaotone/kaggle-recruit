{
 "cells": [
  {
   "cell_type": "code",
   "execution_count": 1,
   "metadata": {},
   "outputs": [
    {
     "name": "stderr",
     "output_type": "stream",
     "text": [
      "/Users/amane/.pyenv/versions/3.6.1/envs/compe/lib/python3.6/site-packages/sklearn/cross_validation.py:41: DeprecationWarning: This module was deprecated in version 0.18 in favor of the model_selection module into which all the refactored classes and functions are moved. Also note that the interface of the new CV iterators are different from that of this module. This module will be removed in 0.20.\n",
      "  \"This module will be removed in 0.20.\", DeprecationWarning)\n",
      "/Users/amane/.pyenv/versions/3.6.1/envs/compe/lib/python3.6/site-packages/sklearn/grid_search.py:42: DeprecationWarning: This module was deprecated in version 0.18 in favor of the model_selection module into which all the refactored classes and functions are moved. This module will be removed in 0.20.\n",
      "  DeprecationWarning)\n",
      "/Users/amane/.pyenv/versions/3.6.1/envs/compe/lib/python3.6/site-packages/sklearn/learning_curve.py:22: DeprecationWarning: This module was deprecated in version 0.18 in favor of the model_selection module into which all the functions are moved. This module will be removed in 0.20\n",
      "  DeprecationWarning)\n"
     ]
    }
   ],
   "source": [
    "import numpy as np\n",
    "import pandas as pd\n",
    "import matplotlib.pyplot as plt\n",
    "%matplotlib inline\n",
    "\n",
    "pd.set_option('display.max_columns', None)\n",
    "\n",
    "from sklearn import *\n",
    "from lightgbm import LGBMRegressor"
   ]
  },
  {
   "cell_type": "code",
   "execution_count": 2,
   "metadata": {
    "collapsed": true
   },
   "outputs": [],
   "source": [
    "import glob, re\n",
    "import numpy as np\n",
    "import pandas as pd\n",
    "from sklearn import *\n",
    "from datetime import datetime\n",
    "from xgboost import XGBRegressor\n",
    "\n",
    "data = {\n",
    "    'tra': pd.read_csv('../input/air_visit_data.csv'),\n",
    "    'as': pd.read_csv('../input/air_store_info.csv'),\n",
    "    'hs': pd.read_csv('../input/hpg_store_info.csv'),\n",
    "    'ar': pd.read_csv('../input/air_reserve.csv'),\n",
    "    'hr': pd.read_csv('../input/hpg_reserve.csv'),\n",
    "    'id': pd.read_csv('../input/store_id_relation.csv'),\n",
    "    'tes': pd.read_csv('../input/sample_submission.csv'),\n",
    "    'hol': pd.read_csv('../input/date_info.csv').rename(columns={'calendar_date':'visit_date'})\n",
    "    }\n",
    "\n",
    "data['hr'] = pd.merge(data['hr'], data['id'], how='inner', on=['hpg_store_id'])\n",
    "\n",
    "for df in ['ar','hr']:\n",
    "    data[df]['visit_datetime'] = pd.to_datetime(data[df]['visit_datetime'])\n",
    "    data[df]['visit_datetime'] = data[df]['visit_datetime'].dt.date\n",
    "    data[df]['reserve_datetime'] = pd.to_datetime(data[df]['reserve_datetime'])\n",
    "    data[df]['reserve_datetime'] = data[df]['reserve_datetime'].dt.date\n",
    "    data[df]['reserve_datetime_diff'] = data[df].apply(lambda r: (r['visit_datetime'] - r['reserve_datetime']).days, axis=1)\n",
    "    tmp1 = data[df].groupby(['air_store_id','visit_datetime'], as_index=False)[['reserve_datetime_diff', 'reserve_visitors']].sum().rename(columns={'visit_datetime':'visit_date', 'reserve_datetime_diff': 'rs1', 'reserve_visitors':'rv1'})\n",
    "    tmp2 = data[df].groupby(['air_store_id','visit_datetime'], as_index=False)[['reserve_datetime_diff', 'reserve_visitors']].mean().rename(columns={'visit_datetime':'visit_date', 'reserve_datetime_diff': 'rs2', 'reserve_visitors':'rv2'})\n",
    "    data[df] = pd.merge(tmp1, tmp2, how='inner', on=['air_store_id','visit_date'])\n",
    "\n",
    "data['tra']['visit_date'] = pd.to_datetime(data['tra']['visit_date'])\n",
    "data['tra']['dow'] = data['tra']['visit_date'].dt.dayofweek\n",
    "data['tra']['year'] = data['tra']['visit_date'].dt.year\n",
    "data['tra']['month'] = data['tra']['visit_date'].dt.month\n",
    "data['tra']['visit_date'] = data['tra']['visit_date'].dt.date\n",
    "\n",
    "data['tes']['visit_date'] = data['tes']['id'].map(lambda x: str(x).split('_')[2])\n",
    "data['tes']['air_store_id'] = data['tes']['id'].map(lambda x: '_'.join(x.split('_')[:2]))\n",
    "data['tes']['visit_date'] = pd.to_datetime(data['tes']['visit_date'])\n",
    "data['tes']['dow'] = data['tes']['visit_date'].dt.dayofweek\n",
    "data['tes']['year'] = data['tes']['visit_date'].dt.year\n",
    "data['tes']['month'] = data['tes']['visit_date'].dt.month\n",
    "data['tes']['visit_date'] = data['tes']['visit_date'].dt.date\n",
    "\n",
    "unique_stores = data['tes']['air_store_id'].unique()\n",
    "stores = pd.concat([pd.DataFrame({'air_store_id': unique_stores, 'dow': [i]*len(unique_stores)}) for i in range(7)], axis=0, ignore_index=True).reset_index(drop=True)\n",
    "\n",
    "#sure it can be compressed...\n",
    "tmp = data['tra'].groupby(['air_store_id','dow'], as_index=False)['visitors'].min().rename(columns={'visitors':'min_visitors'})\n",
    "stores = pd.merge(stores, tmp, how='left', on=['air_store_id','dow']) \n",
    "tmp = data['tra'].groupby(['air_store_id','dow'], as_index=False)['visitors'].mean().rename(columns={'visitors':'mean_visitors'})\n",
    "stores = pd.merge(stores, tmp, how='left', on=['air_store_id','dow'])\n",
    "tmp = data['tra'].groupby(['air_store_id','dow'], as_index=False)['visitors'].median().rename(columns={'visitors':'median_visitors'})\n",
    "stores = pd.merge(stores, tmp, how='left', on=['air_store_id','dow'])\n",
    "tmp = data['tra'].groupby(['air_store_id','dow'], as_index=False)['visitors'].max().rename(columns={'visitors':'max_visitors'})\n",
    "stores = pd.merge(stores, tmp, how='left', on=['air_store_id','dow'])\n",
    "tmp = data['tra'].groupby(['air_store_id','dow'], as_index=False)['visitors'].count().rename(columns={'visitors':'count_observations'})\n",
    "stores = pd.merge(stores, tmp, how='left', on=['air_store_id','dow']) \n",
    "\n",
    "stores = pd.merge(stores, data['as'], how='left', on=['air_store_id']) \n",
    "# NEW FEATURES FROM Georgii Vyshnia\n",
    "stores['air_genre_name'] = stores['air_genre_name'].map(lambda x: str(str(x).replace('/',' ')))\n",
    "stores['air_area_name'] = stores['air_area_name'].map(lambda x: str(str(x).replace('-',' ')))\n",
    "lbl = preprocessing.LabelEncoder()\n",
    "# for i in range(10):\n",
    "#     stores['air_genre_name'+str(i)] = lbl.fit_transform(stores['air_genre_name'].map(lambda x: str(str(x).split(' ')[i]) if len(str(x).split(' '))>i else ''))\n",
    "#     stores['air_area_name'+str(i)] = lbl.fit_transform(stores['air_area_name'].map(lambda x: str(str(x).split(' ')[i]) if len(str(x).split(' '))>i else ''))\n",
    "# stores['air_genre_name'] = lbl.fit_transform(stores['air_genre_name'])\n",
    "# stores['air_area_name'] = lbl.fit_transform(stores['air_area_name'])\n",
    "\n",
    "data['hol']['visit_date'] = pd.to_datetime(data['hol']['visit_date'])\n",
    "data['hol']['day_of_week'] = lbl.fit_transform(data['hol']['day_of_week'])\n",
    "data['hol']['visit_date'] = data['hol']['visit_date'].dt.date\n",
    "train = pd.merge(data['tra'], data['hol'], how='left', on=['visit_date']) \n",
    "test = pd.merge(data['tes'], data['hol'], how='left', on=['visit_date']) \n",
    "\n",
    "train = pd.merge(train, stores, how='left', on=['air_store_id','dow']) \n",
    "test = pd.merge(test, stores, how='left', on=['air_store_id','dow'])\n",
    "\n",
    "for df in ['ar','hr']:\n",
    "    train = pd.merge(train, data[df], how='left', on=['air_store_id','visit_date']) \n",
    "    test = pd.merge(test, data[df], how='left', on=['air_store_id','visit_date'])\n",
    "\n",
    "train['id'] = train.apply(lambda r: '_'.join([str(r['air_store_id']), str(r['visit_date'])]), axis=1)\n",
    "\n",
    "train['total_reserv_sum'] = train['rv1_x'] + train['rv1_y']\n",
    "train['total_reserv_mean'] = (train['rv2_x'] + train['rv2_y']) / 2\n",
    "train['total_reserv_dt_diff_mean'] = (train['rs2_x'] + train['rs2_y']) / 2\n",
    "\n",
    "test['total_reserv_sum'] = test['rv1_x'] + test['rv1_y']\n",
    "test['total_reserv_mean'] = (test['rv2_x'] + test['rv2_y']) / 2\n",
    "test['total_reserv_dt_diff_mean'] = (test['rs2_x'] + test['rs2_y']) / 2\n",
    "\n",
    "# NEW FEATURES FROM JMBULL\n",
    "train['date_int'] = train['visit_date'].apply(lambda x: x.strftime('%Y%m%d')).astype(int)\n",
    "test['date_int'] = test['visit_date'].apply(lambda x: x.strftime('%Y%m%d')).astype(int)\n",
    "train['var_max_lat'] = train['latitude'].max() - train['latitude']\n",
    "train['var_max_long'] = train['longitude'].max() - train['longitude']\n",
    "test['var_max_lat'] = test['latitude'].max() - test['latitude']\n",
    "test['var_max_long'] = test['longitude'].max() - test['longitude']\n",
    "\n",
    "# NEW FEATURES FROM Georgii Vyshnia\n",
    "train['lon_plus_lat'] = train['longitude'] + train['latitude'] \n",
    "test['lon_plus_lat'] = test['longitude'] + test['latitude']\n",
    "\n",
    "# lbl = preprocessing.LabelEncoder()\n",
    "# train['air_store_id2'] = lbl.fit_transform(train['air_store_id'])\n",
    "# test['air_store_id2'] = lbl.transform(test['air_store_id'])\n",
    "\n",
    "train = train.fillna(-1)\n",
    "test = test.fillna(-1)\n",
    "\n",
    "def RMSLE(y, pred):\n",
    "    return metrics.mean_squared_error(y, pred)**0.5"
   ]
  },
  {
   "cell_type": "code",
   "execution_count": 5,
   "metadata": {},
   "outputs": [],
   "source": [
    "def target_encode(col):\n",
    "    global train, test\n",
    "    ref = pd.DataFrame({\n",
    "        col+'_target_mean': train.loc[~val_id].groupby(col)['visitors'].mean(),\n",
    "        col+'_target_std': train.loc[~val_id].groupby(col)['visitors'].std()\n",
    "    })\n",
    "    train = pd.merge(left=train, right=ref, left_on=col, right_index=True)\n",
    "    ref = train.groupby(col)['visitors'].mean().to_frame(name=col+'_target')\n",
    "    ref = pd.DataFrame({\n",
    "        col+'_target_mean': train.groupby(col)['visitors'].mean(),\n",
    "        col+'_target_std': train.groupby(col)['visitors'].std()\n",
    "    })\n",
    "    test = pd.merge(left=test, right=ref, left_on=col, right_index=True)"
   ]
  },
  {
   "cell_type": "code",
   "execution_count": 9,
   "metadata": {
    "scrolled": false
   },
   "outputs": [
    {
     "name": "stdout",
     "output_type": "stream",
     "text": [
      "val ratio: 6.26%\n"
     ]
    }
   ],
   "source": [
    "val_id = ((train.year == 2017) & (train.month >= 4))\n",
    "print('val ratio:', f'{len(train.loc[val_id])/len(train):.2%}')"
   ]
  },
  {
   "cell_type": "code",
   "execution_count": 10,
   "metadata": {},
   "outputs": [],
   "source": [
    "target_encode('air_store_id')\n",
    "target_encode('air_genre_name')\n",
    "target_encode('air_area_name')"
   ]
  },
  {
   "cell_type": "code",
   "execution_count": 11,
   "metadata": {
    "collapsed": true,
    "scrolled": true
   },
   "outputs": [],
   "source": [
    "col = [c for c in train if c not in ['id', 'air_store_id', 'air_area_name', 'air_genre_name', 'visit_date','visitors']]\n",
    "X_trn = train.loc[~val_id, col]\n",
    "y_trn = np.log1p(train.loc[~val_id, 'visitors'].values)\n",
    "X_val = train.loc[val_id, col]\n",
    "y_val = np.log1p(train.loc[val_id, 'visitors'].values)\n",
    "X_all = train[col]\n",
    "y_all = np.log1p(train['visitors'].values)\n",
    "X_tst = test[col]"
   ]
  },
  {
   "cell_type": "code",
   "execution_count": 78,
   "metadata": {},
   "outputs": [],
   "source": [
    "from sklearn.model_selection import RandomizedSearchCV, PredefinedSplit\n",
    "from sklearn.metrics import make_scorer\n",
    "import scipy.stats"
   ]
  },
  {
   "cell_type": "code",
   "execution_count": 75,
   "metadata": {},
   "outputs": [],
   "source": [
    "cv = PredefinedSplit((val_id-1).values)"
   ]
  },
  {
   "cell_type": "code",
   "execution_count": 91,
   "metadata": {},
   "outputs": [],
   "source": [
    "param_dist = {\n",
    "    'random_state': [77],\n",
    "    'num_leaves': [40, 50, 60, 70, 80, 90, 100],\n",
    "    'n_estimators': [200, 300, 400, 500, 600, 700, 800],\n",
    "    'learning_rate': scipy.stats.uniform(0.03, 0.2),\n",
    "    'min_child_samples': scipy.stats.randint(10, 50),\n",
    "    'colsample_bytree': [0.7, 0.8, 0.9, 1.0],\n",
    "    'subsample': [0.7, 0.8, 0.9, 1.0],\n",
    "}\n",
    "rscv = RandomizedSearchCV(LGBMRegressor(), param_dist, n_iter=100, \n",
    "                          scoring=make_scorer(RMSLE,greater_is_better=False),\n",
    "                         cv=cv, verbose=2)"
   ]
  },
  {
   "cell_type": "code",
   "execution_count": 92,
   "metadata": {
    "scrolled": false
   },
   "outputs": [
    {
     "name": "stdout",
     "output_type": "stream",
     "text": [
      "Fitting 1 folds for each of 100 candidates, totalling 100 fits\n",
      "[CV] colsample_bytree=0.8, learning_rate=0.16211226507031734, min_child_samples=10, n_estimators=500, num_leaves=70, random_state=77, subsample=0.8 \n",
      "[CV]  colsample_bytree=0.8, learning_rate=0.16211226507031734, min_child_samples=10, n_estimators=500, num_leaves=70, random_state=77, subsample=0.8, total=  19.2s\n",
      "[CV] colsample_bytree=0.9, learning_rate=0.09495189146724171, min_child_samples=40, n_estimators=600, num_leaves=80, random_state=77, subsample=0.9 \n"
     ]
    },
    {
     "name": "stderr",
     "output_type": "stream",
     "text": [
      "[Parallel(n_jobs=1)]: Done   1 out of   1 | elapsed:   24.8s remaining:    0.0s\n"
     ]
    },
    {
     "name": "stdout",
     "output_type": "stream",
     "text": [
      "[CV]  colsample_bytree=0.9, learning_rate=0.09495189146724171, min_child_samples=40, n_estimators=600, num_leaves=80, random_state=77, subsample=0.9, total=  28.1s\n",
      "[CV] colsample_bytree=0.7, learning_rate=0.04158026190567394, min_child_samples=39, n_estimators=600, num_leaves=90, random_state=77, subsample=1.0 \n",
      "[CV]  colsample_bytree=0.7, learning_rate=0.04158026190567394, min_child_samples=39, n_estimators=600, num_leaves=90, random_state=77, subsample=1.0, total=  28.6s\n",
      "[CV] colsample_bytree=0.9, learning_rate=0.18697924442721267, min_child_samples=30, n_estimators=800, num_leaves=90, random_state=77, subsample=0.7 \n",
      "[CV]  colsample_bytree=0.9, learning_rate=0.18697924442721267, min_child_samples=30, n_estimators=800, num_leaves=90, random_state=77, subsample=0.7, total=  34.3s\n",
      "[CV] colsample_bytree=1.0, learning_rate=0.12290353172646382, min_child_samples=25, n_estimators=800, num_leaves=60, random_state=77, subsample=0.7 \n",
      "[CV]  colsample_bytree=1.0, learning_rate=0.12290353172646382, min_child_samples=25, n_estimators=800, num_leaves=60, random_state=77, subsample=0.7, total=  27.1s\n",
      "[CV] colsample_bytree=0.8, learning_rate=0.10675946244262031, min_child_samples=21, n_estimators=700, num_leaves=40, random_state=77, subsample=0.8 \n",
      "[CV]  colsample_bytree=0.8, learning_rate=0.10675946244262031, min_child_samples=21, n_estimators=700, num_leaves=40, random_state=77, subsample=0.8, total=  22.3s\n",
      "[CV] colsample_bytree=0.8, learning_rate=0.07980428606148326, min_child_samples=35, n_estimators=200, num_leaves=80, random_state=77, subsample=1.0 \n",
      "[CV]  colsample_bytree=0.8, learning_rate=0.07980428606148326, min_child_samples=35, n_estimators=200, num_leaves=80, random_state=77, subsample=1.0, total=  11.0s\n",
      "[CV] colsample_bytree=0.9, learning_rate=0.03926463200196874, min_child_samples=48, n_estimators=800, num_leaves=80, random_state=77, subsample=0.9 \n",
      "[CV]  colsample_bytree=0.9, learning_rate=0.03926463200196874, min_child_samples=48, n_estimators=800, num_leaves=80, random_state=77, subsample=0.9, total=  39.5s\n",
      "[CV] colsample_bytree=0.9, learning_rate=0.07931367721324586, min_child_samples=25, n_estimators=300, num_leaves=60, random_state=77, subsample=0.9 \n",
      "[CV]  colsample_bytree=0.9, learning_rate=0.07931367721324586, min_child_samples=25, n_estimators=300, num_leaves=60, random_state=77, subsample=0.9, total=  13.7s\n",
      "[CV] colsample_bytree=1.0, learning_rate=0.1951251969624934, min_child_samples=45, n_estimators=500, num_leaves=50, random_state=77, subsample=0.9 \n",
      "[CV]  colsample_bytree=1.0, learning_rate=0.1951251969624934, min_child_samples=45, n_estimators=500, num_leaves=50, random_state=77, subsample=0.9, total=  18.4s\n",
      "[CV] colsample_bytree=1.0, learning_rate=0.14813657306631664, min_child_samples=30, n_estimators=300, num_leaves=80, random_state=77, subsample=1.0 \n",
      "[CV]  colsample_bytree=1.0, learning_rate=0.14813657306631664, min_child_samples=30, n_estimators=300, num_leaves=80, random_state=77, subsample=1.0, total=  13.4s\n",
      "[CV] colsample_bytree=0.7, learning_rate=0.10138724916244697, min_child_samples=13, n_estimators=600, num_leaves=60, random_state=77, subsample=0.8 \n",
      "[CV]  colsample_bytree=0.7, learning_rate=0.10138724916244697, min_child_samples=13, n_estimators=600, num_leaves=60, random_state=77, subsample=0.8, total=  23.5s\n",
      "[CV] colsample_bytree=0.9, learning_rate=0.21723999853045647, min_child_samples=48, n_estimators=300, num_leaves=40, random_state=77, subsample=0.8 \n",
      "[CV]  colsample_bytree=0.9, learning_rate=0.21723999853045647, min_child_samples=48, n_estimators=300, num_leaves=40, random_state=77, subsample=0.8, total=   9.8s\n",
      "[CV] colsample_bytree=0.8, learning_rate=0.1290676313727543, min_child_samples=10, n_estimators=800, num_leaves=90, random_state=77, subsample=0.7 \n",
      "[CV]  colsample_bytree=0.8, learning_rate=0.1290676313727543, min_child_samples=10, n_estimators=800, num_leaves=90, random_state=77, subsample=0.7, total=  33.3s\n",
      "[CV] colsample_bytree=0.7, learning_rate=0.08255649671328982, min_child_samples=26, n_estimators=600, num_leaves=70, random_state=77, subsample=0.8 \n",
      "[CV]  colsample_bytree=0.7, learning_rate=0.08255649671328982, min_child_samples=26, n_estimators=600, num_leaves=70, random_state=77, subsample=0.8, total=  25.2s\n",
      "[CV] colsample_bytree=1.0, learning_rate=0.14941137984206054, min_child_samples=34, n_estimators=300, num_leaves=40, random_state=77, subsample=0.8 \n",
      "[CV]  colsample_bytree=1.0, learning_rate=0.14941137984206054, min_child_samples=34, n_estimators=300, num_leaves=40, random_state=77, subsample=0.8, total=   9.7s\n",
      "[CV] colsample_bytree=0.7, learning_rate=0.09251946510045546, min_child_samples=17, n_estimators=300, num_leaves=100, random_state=77, subsample=1.0 \n",
      "[CV]  colsample_bytree=0.7, learning_rate=0.09251946510045546, min_child_samples=17, n_estimators=300, num_leaves=100, random_state=77, subsample=1.0, total=  15.1s\n",
      "[CV] colsample_bytree=0.8, learning_rate=0.19767904999510963, min_child_samples=15, n_estimators=200, num_leaves=100, random_state=77, subsample=0.8 \n",
      "[CV]  colsample_bytree=0.8, learning_rate=0.19767904999510963, min_child_samples=15, n_estimators=200, num_leaves=100, random_state=77, subsample=0.8, total=  10.1s\n",
      "[CV] colsample_bytree=0.8, learning_rate=0.2299675650847812, min_child_samples=38, n_estimators=700, num_leaves=50, random_state=77, subsample=0.7 \n",
      "[CV]  colsample_bytree=0.8, learning_rate=0.2299675650847812, min_child_samples=38, n_estimators=700, num_leaves=50, random_state=77, subsample=0.7, total=  22.4s\n",
      "[CV] colsample_bytree=0.7, learning_rate=0.1301952876199704, min_child_samples=31, n_estimators=200, num_leaves=90, random_state=77, subsample=1.0 \n",
      "[CV]  colsample_bytree=0.7, learning_rate=0.1301952876199704, min_child_samples=31, n_estimators=200, num_leaves=90, random_state=77, subsample=1.0, total=  32.5s\n",
      "[CV] colsample_bytree=0.7, learning_rate=0.08637083997178269, min_child_samples=37, n_estimators=500, num_leaves=70, random_state=77, subsample=0.7 \n",
      "[CV]  colsample_bytree=0.7, learning_rate=0.08637083997178269, min_child_samples=37, n_estimators=500, num_leaves=70, random_state=77, subsample=0.7, total=  28.6s\n",
      "[CV] colsample_bytree=0.9, learning_rate=0.18051802074299594, min_child_samples=16, n_estimators=500, num_leaves=40, random_state=77, subsample=0.8 \n",
      "[CV]  colsample_bytree=0.9, learning_rate=0.18051802074299594, min_child_samples=16, n_estimators=500, num_leaves=40, random_state=77, subsample=0.8, total=  16.7s\n",
      "[CV] colsample_bytree=0.9, learning_rate=0.18886451068773455, min_child_samples=28, n_estimators=600, num_leaves=50, random_state=77, subsample=0.7 \n",
      "[CV]  colsample_bytree=0.9, learning_rate=0.18886451068773455, min_child_samples=28, n_estimators=600, num_leaves=50, random_state=77, subsample=0.7, total=  20.3s\n",
      "[CV] colsample_bytree=1.0, learning_rate=0.10845870066519073, min_child_samples=35, n_estimators=800, num_leaves=60, random_state=77, subsample=0.8 \n",
      "[CV]  colsample_bytree=1.0, learning_rate=0.10845870066519073, min_child_samples=35, n_estimators=800, num_leaves=60, random_state=77, subsample=0.8, total=  29.7s\n",
      "[CV] colsample_bytree=0.9, learning_rate=0.20097991264411585, min_child_samples=13, n_estimators=400, num_leaves=40, random_state=77, subsample=1.0 \n",
      "[CV]  colsample_bytree=0.9, learning_rate=0.20097991264411585, min_child_samples=13, n_estimators=400, num_leaves=40, random_state=77, subsample=1.0, total=  11.5s\n",
      "[CV] colsample_bytree=0.9, learning_rate=0.06558272770691234, min_child_samples=42, n_estimators=300, num_leaves=50, random_state=77, subsample=0.8 \n",
      "[CV]  colsample_bytree=0.9, learning_rate=0.06558272770691234, min_child_samples=42, n_estimators=300, num_leaves=50, random_state=77, subsample=0.8, total=  11.9s\n",
      "[CV] colsample_bytree=0.9, learning_rate=0.21412178156505007, min_child_samples=28, n_estimators=400, num_leaves=40, random_state=77, subsample=0.8 \n",
      "[CV]  colsample_bytree=0.9, learning_rate=0.21412178156505007, min_child_samples=28, n_estimators=400, num_leaves=40, random_state=77, subsample=0.8, total=  11.9s\n",
      "[CV] colsample_bytree=0.7, learning_rate=0.03700431048305909, min_child_samples=40, n_estimators=200, num_leaves=40, random_state=77, subsample=0.8 \n",
      "[CV]  colsample_bytree=0.7, learning_rate=0.03700431048305909, min_child_samples=40, n_estimators=200, num_leaves=40, random_state=77, subsample=0.8, total=   9.2s\n",
      "[CV] colsample_bytree=1.0, learning_rate=0.11948570068073813, min_child_samples=46, n_estimators=500, num_leaves=90, random_state=77, subsample=0.7 \n"
     ]
    },
    {
     "name": "stdout",
     "output_type": "stream",
     "text": [
      "[CV]  colsample_bytree=1.0, learning_rate=0.11948570068073813, min_child_samples=46, n_estimators=500, num_leaves=90, random_state=77, subsample=0.7, total=  22.9s\n",
      "[CV] colsample_bytree=0.9, learning_rate=0.1585142367365513, min_child_samples=19, n_estimators=200, num_leaves=100, random_state=77, subsample=1.0 \n",
      "[CV]  colsample_bytree=0.9, learning_rate=0.1585142367365513, min_child_samples=19, n_estimators=200, num_leaves=100, random_state=77, subsample=1.0, total=  10.2s\n",
      "[CV] colsample_bytree=0.8, learning_rate=0.14279659681228046, min_child_samples=36, n_estimators=400, num_leaves=100, random_state=77, subsample=0.7 \n",
      "[CV]  colsample_bytree=0.8, learning_rate=0.14279659681228046, min_child_samples=36, n_estimators=400, num_leaves=100, random_state=77, subsample=0.7, total=  19.6s\n",
      "[CV] colsample_bytree=0.8, learning_rate=0.08884143039897, min_child_samples=21, n_estimators=400, num_leaves=70, random_state=77, subsample=0.8 \n",
      "[CV]  colsample_bytree=0.8, learning_rate=0.08884143039897, min_child_samples=21, n_estimators=400, num_leaves=70, random_state=77, subsample=0.8, total=  16.4s\n",
      "[CV] colsample_bytree=0.8, learning_rate=0.21781027168046033, min_child_samples=42, n_estimators=500, num_leaves=90, random_state=77, subsample=0.7 \n",
      "[CV]  colsample_bytree=0.8, learning_rate=0.21781027168046033, min_child_samples=42, n_estimators=500, num_leaves=90, random_state=77, subsample=0.7, total=  22.0s\n",
      "[CV] colsample_bytree=0.9, learning_rate=0.16970241884514298, min_child_samples=26, n_estimators=800, num_leaves=80, random_state=77, subsample=0.7 \n",
      "[CV]  colsample_bytree=0.9, learning_rate=0.16970241884514298, min_child_samples=26, n_estimators=800, num_leaves=80, random_state=77, subsample=0.7, total=  32.7s\n",
      "[CV] colsample_bytree=0.7, learning_rate=0.14454801343489934, min_child_samples=31, n_estimators=300, num_leaves=100, random_state=77, subsample=0.9 \n",
      "[CV]  colsample_bytree=0.7, learning_rate=0.14454801343489934, min_child_samples=31, n_estimators=300, num_leaves=100, random_state=77, subsample=0.9, total=  15.0s\n",
      "[CV] colsample_bytree=0.9, learning_rate=0.06921290721671136, min_child_samples=34, n_estimators=700, num_leaves=100, random_state=77, subsample=0.8 \n",
      "[CV]  colsample_bytree=0.9, learning_rate=0.06921290721671136, min_child_samples=34, n_estimators=700, num_leaves=100, random_state=77, subsample=0.8, total=  33.4s\n",
      "[CV] colsample_bytree=0.9, learning_rate=0.05146490695640264, min_child_samples=44, n_estimators=200, num_leaves=70, random_state=77, subsample=0.8 \n",
      "[CV]  colsample_bytree=0.9, learning_rate=0.05146490695640264, min_child_samples=44, n_estimators=200, num_leaves=70, random_state=77, subsample=0.8, total=  11.3s\n",
      "[CV] colsample_bytree=0.9, learning_rate=0.0838033552792731, min_child_samples=38, n_estimators=300, num_leaves=80, random_state=77, subsample=0.7 \n",
      "[CV]  colsample_bytree=0.9, learning_rate=0.0838033552792731, min_child_samples=38, n_estimators=300, num_leaves=80, random_state=77, subsample=0.7, total=  13.8s\n",
      "[CV] colsample_bytree=1.0, learning_rate=0.2043906302097752, min_child_samples=39, n_estimators=600, num_leaves=100, random_state=77, subsample=0.7 \n",
      "[CV]  colsample_bytree=1.0, learning_rate=0.2043906302097752, min_child_samples=39, n_estimators=600, num_leaves=100, random_state=77, subsample=0.7, total=  28.2s\n",
      "[CV] colsample_bytree=0.7, learning_rate=0.18740400537969112, min_child_samples=15, n_estimators=700, num_leaves=100, random_state=77, subsample=1.0 \n",
      "[CV]  colsample_bytree=0.7, learning_rate=0.18740400537969112, min_child_samples=15, n_estimators=700, num_leaves=100, random_state=77, subsample=1.0, total=  28.2s\n",
      "[CV] colsample_bytree=1.0, learning_rate=0.15394034452670918, min_child_samples=24, n_estimators=800, num_leaves=100, random_state=77, subsample=1.0 \n",
      "[CV]  colsample_bytree=1.0, learning_rate=0.15394034452670918, min_child_samples=24, n_estimators=800, num_leaves=100, random_state=77, subsample=1.0, total=  33.0s\n",
      "[CV] colsample_bytree=0.7, learning_rate=0.16354464942157193, min_child_samples=11, n_estimators=400, num_leaves=90, random_state=77, subsample=0.9 \n",
      "[CV]  colsample_bytree=0.7, learning_rate=0.16354464942157193, min_child_samples=11, n_estimators=400, num_leaves=90, random_state=77, subsample=0.9, total=  18.0s\n",
      "[CV] colsample_bytree=0.7, learning_rate=0.1670252654485774, min_child_samples=31, n_estimators=500, num_leaves=60, random_state=77, subsample=1.0 \n",
      "[CV]  colsample_bytree=0.7, learning_rate=0.1670252654485774, min_child_samples=31, n_estimators=500, num_leaves=60, random_state=77, subsample=1.0, total=  17.4s\n",
      "[CV] colsample_bytree=1.0, learning_rate=0.0737890162277938, min_child_samples=23, n_estimators=300, num_leaves=90, random_state=77, subsample=0.9 \n",
      "[CV]  colsample_bytree=1.0, learning_rate=0.0737890162277938, min_child_samples=23, n_estimators=300, num_leaves=90, random_state=77, subsample=0.9, total=  16.0s\n",
      "[CV] colsample_bytree=1.0, learning_rate=0.06383814968276869, min_child_samples=42, n_estimators=200, num_leaves=50, random_state=77, subsample=1.0 \n",
      "[CV]  colsample_bytree=1.0, learning_rate=0.06383814968276869, min_child_samples=42, n_estimators=200, num_leaves=50, random_state=77, subsample=1.0, total=   9.0s\n",
      "[CV] colsample_bytree=1.0, learning_rate=0.13574741751896055, min_child_samples=36, n_estimators=700, num_leaves=80, random_state=77, subsample=0.7 \n",
      "[CV]  colsample_bytree=1.0, learning_rate=0.13574741751896055, min_child_samples=36, n_estimators=700, num_leaves=80, random_state=77, subsample=0.7, total=  29.1s\n",
      "[CV] colsample_bytree=1.0, learning_rate=0.04569869486769031, min_child_samples=22, n_estimators=300, num_leaves=100, random_state=77, subsample=0.9 \n",
      "[CV]  colsample_bytree=1.0, learning_rate=0.04569869486769031, min_child_samples=22, n_estimators=300, num_leaves=100, random_state=77, subsample=0.9, total=  19.0s\n",
      "[CV] colsample_bytree=0.8, learning_rate=0.173517053770382, min_child_samples=44, n_estimators=200, num_leaves=60, random_state=77, subsample=1.0 \n",
      "[CV]  colsample_bytree=0.8, learning_rate=0.173517053770382, min_child_samples=44, n_estimators=200, num_leaves=60, random_state=77, subsample=1.0, total=   7.5s\n",
      "[CV] colsample_bytree=0.8, learning_rate=0.16247168553525976, min_child_samples=42, n_estimators=800, num_leaves=90, random_state=77, subsample=1.0 \n",
      "[CV]  colsample_bytree=0.8, learning_rate=0.16247168553525976, min_child_samples=42, n_estimators=800, num_leaves=90, random_state=77, subsample=1.0, total=23.5min\n",
      "[CV] colsample_bytree=0.7, learning_rate=0.049077093709253214, min_child_samples=49, n_estimators=500, num_leaves=80, random_state=77, subsample=0.8 \n",
      "[CV]  colsample_bytree=0.7, learning_rate=0.049077093709253214, min_child_samples=49, n_estimators=500, num_leaves=80, random_state=77, subsample=0.8, total= 7.4min\n",
      "[CV] colsample_bytree=0.8, learning_rate=0.12514995673855114, min_child_samples=40, n_estimators=500, num_leaves=50, random_state=77, subsample=0.8 \n",
      "[CV]  colsample_bytree=0.8, learning_rate=0.12514995673855114, min_child_samples=40, n_estimators=500, num_leaves=50, random_state=77, subsample=0.8, total=  31.1s\n",
      "[CV] colsample_bytree=0.8, learning_rate=0.14885591679942067, min_child_samples=21, n_estimators=600, num_leaves=80, random_state=77, subsample=0.8 \n",
      "[CV]  colsample_bytree=0.8, learning_rate=0.14885591679942067, min_child_samples=21, n_estimators=600, num_leaves=80, random_state=77, subsample=0.8, total=  42.2s\n",
      "[CV] colsample_bytree=0.9, learning_rate=0.1985591593449865, min_child_samples=13, n_estimators=700, num_leaves=50, random_state=77, subsample=0.7 \n",
      "[CV]  colsample_bytree=0.9, learning_rate=0.1985591593449865, min_child_samples=13, n_estimators=700, num_leaves=50, random_state=77, subsample=0.7, total=  38.9s\n",
      "[CV] colsample_bytree=1.0, learning_rate=0.2285470804225569, min_child_samples=42, n_estimators=600, num_leaves=100, random_state=77, subsample=0.8 \n",
      "[CV]  colsample_bytree=1.0, learning_rate=0.2285470804225569, min_child_samples=42, n_estimators=600, num_leaves=100, random_state=77, subsample=0.8, total=  51.0s\n",
      "[CV] colsample_bytree=0.9, learning_rate=0.16108786197494346, min_child_samples=10, n_estimators=300, num_leaves=40, random_state=77, subsample=1.0 \n",
      "[CV]  colsample_bytree=0.9, learning_rate=0.16108786197494346, min_child_samples=10, n_estimators=300, num_leaves=40, random_state=77, subsample=1.0, total=  16.9s\n",
      "[CV] colsample_bytree=0.7, learning_rate=0.06123980118766654, min_child_samples=31, n_estimators=700, num_leaves=100, random_state=77, subsample=1.0 \n"
     ]
    },
    {
     "name": "stdout",
     "output_type": "stream",
     "text": [
      "[CV]  colsample_bytree=0.7, learning_rate=0.06123980118766654, min_child_samples=31, n_estimators=700, num_leaves=100, random_state=77, subsample=1.0, total= 1.0min\n",
      "[CV] colsample_bytree=1.0, learning_rate=0.051608013997313074, min_child_samples=48, n_estimators=500, num_leaves=100, random_state=77, subsample=0.7 \n",
      "[CV]  colsample_bytree=1.0, learning_rate=0.051608013997313074, min_child_samples=48, n_estimators=500, num_leaves=100, random_state=77, subsample=0.7, total=  47.4s\n",
      "[CV] colsample_bytree=0.9, learning_rate=0.04052426834090161, min_child_samples=42, n_estimators=400, num_leaves=70, random_state=77, subsample=0.9 \n",
      "[CV]  colsample_bytree=0.9, learning_rate=0.04052426834090161, min_child_samples=42, n_estimators=400, num_leaves=70, random_state=77, subsample=0.9, total=  36.6s\n",
      "[CV] colsample_bytree=1.0, learning_rate=0.10649753500711753, min_child_samples=17, n_estimators=300, num_leaves=90, random_state=77, subsample=0.9 \n",
      "[CV]  colsample_bytree=1.0, learning_rate=0.10649753500711753, min_child_samples=17, n_estimators=300, num_leaves=90, random_state=77, subsample=0.9, total=  27.3s\n",
      "[CV] colsample_bytree=0.8, learning_rate=0.1355414939918223, min_child_samples=19, n_estimators=700, num_leaves=80, random_state=77, subsample=1.0 \n",
      "[CV]  colsample_bytree=0.8, learning_rate=0.1355414939918223, min_child_samples=19, n_estimators=700, num_leaves=80, random_state=77, subsample=1.0, total=  46.8s\n",
      "[CV] colsample_bytree=1.0, learning_rate=0.03161303630853719, min_child_samples=18, n_estimators=700, num_leaves=90, random_state=77, subsample=1.0 \n",
      "[CV]  colsample_bytree=1.0, learning_rate=0.03161303630853719, min_child_samples=18, n_estimators=700, num_leaves=90, random_state=77, subsample=1.0, total= 1.0min\n",
      "[CV] colsample_bytree=0.9, learning_rate=0.05464589751967319, min_child_samples=49, n_estimators=400, num_leaves=80, random_state=77, subsample=1.0 \n",
      "[CV]  colsample_bytree=0.9, learning_rate=0.05464589751967319, min_child_samples=49, n_estimators=400, num_leaves=80, random_state=77, subsample=1.0, total=  32.4s\n",
      "[CV] colsample_bytree=0.8, learning_rate=0.14537501358939914, min_child_samples=40, n_estimators=700, num_leaves=50, random_state=77, subsample=0.9 \n",
      "[CV]  colsample_bytree=0.8, learning_rate=0.14537501358939914, min_child_samples=40, n_estimators=700, num_leaves=50, random_state=77, subsample=0.9, total=  37.4s\n",
      "[CV] colsample_bytree=0.8, learning_rate=0.20494503605063066, min_child_samples=39, n_estimators=400, num_leaves=90, random_state=77, subsample=1.0 \n",
      "[CV]  colsample_bytree=0.8, learning_rate=0.20494503605063066, min_child_samples=39, n_estimators=400, num_leaves=90, random_state=77, subsample=1.0, total=  26.1s\n",
      "[CV] colsample_bytree=0.8, learning_rate=0.17516984599534707, min_child_samples=11, n_estimators=500, num_leaves=70, random_state=77, subsample=0.7 \n",
      "[CV]  colsample_bytree=0.8, learning_rate=0.17516984599534707, min_child_samples=11, n_estimators=500, num_leaves=70, random_state=77, subsample=0.7, total=  28.3s\n",
      "[CV] colsample_bytree=0.7, learning_rate=0.21084489024523997, min_child_samples=24, n_estimators=500, num_leaves=90, random_state=77, subsample=0.7 \n",
      "[CV]  colsample_bytree=0.7, learning_rate=0.21084489024523997, min_child_samples=24, n_estimators=500, num_leaves=90, random_state=77, subsample=0.7, total=  32.0s\n",
      "[CV] colsample_bytree=1.0, learning_rate=0.13559683136388287, min_child_samples=24, n_estimators=700, num_leaves=40, random_state=77, subsample=1.0 \n",
      "[CV]  colsample_bytree=1.0, learning_rate=0.13559683136388287, min_child_samples=24, n_estimators=700, num_leaves=40, random_state=77, subsample=1.0, total=  31.1s\n",
      "[CV] colsample_bytree=0.9, learning_rate=0.12012342662157768, min_child_samples=15, n_estimators=600, num_leaves=50, random_state=77, subsample=0.9 \n",
      "[CV]  colsample_bytree=0.9, learning_rate=0.12012342662157768, min_child_samples=15, n_estimators=600, num_leaves=50, random_state=77, subsample=0.9, total=  32.1s\n",
      "[CV] colsample_bytree=0.8, learning_rate=0.12101431676613092, min_child_samples=17, n_estimators=600, num_leaves=70, random_state=77, subsample=1.0 \n",
      "[CV]  colsample_bytree=0.8, learning_rate=0.12101431676613092, min_child_samples=17, n_estimators=600, num_leaves=70, random_state=77, subsample=1.0, total=  34.2s\n",
      "[CV] colsample_bytree=0.9, learning_rate=0.19464849956005978, min_child_samples=48, n_estimators=800, num_leaves=60, random_state=77, subsample=0.8 \n",
      "[CV]  colsample_bytree=0.9, learning_rate=0.19464849956005978, min_child_samples=48, n_estimators=800, num_leaves=60, random_state=77, subsample=0.8, total=  41.9s\n",
      "[CV] colsample_bytree=0.7, learning_rate=0.21127987520299146, min_child_samples=47, n_estimators=800, num_leaves=90, random_state=77, subsample=0.9 \n",
      "[CV]  colsample_bytree=0.7, learning_rate=0.21127987520299146, min_child_samples=47, n_estimators=800, num_leaves=90, random_state=77, subsample=0.9, total=  50.8s\n",
      "[CV] colsample_bytree=0.9, learning_rate=0.1697078634438809, min_child_samples=32, n_estimators=800, num_leaves=70, random_state=77, subsample=0.7 \n",
      "[CV]  colsample_bytree=0.9, learning_rate=0.1697078634438809, min_child_samples=32, n_estimators=800, num_leaves=70, random_state=77, subsample=0.7, total=  43.3s\n",
      "[CV] colsample_bytree=0.7, learning_rate=0.2252194841709122, min_child_samples=33, n_estimators=700, num_leaves=60, random_state=77, subsample=0.9 \n",
      "[CV]  colsample_bytree=0.7, learning_rate=0.2252194841709122, min_child_samples=33, n_estimators=700, num_leaves=60, random_state=77, subsample=0.9, total=  35.8s\n",
      "[CV] colsample_bytree=0.8, learning_rate=0.11319007843775382, min_child_samples=24, n_estimators=400, num_leaves=80, random_state=77, subsample=0.8 \n",
      "[CV]  colsample_bytree=0.8, learning_rate=0.11319007843775382, min_child_samples=24, n_estimators=400, num_leaves=80, random_state=77, subsample=0.8, total=  25.5s\n",
      "[CV] colsample_bytree=0.9, learning_rate=0.2014392664532846, min_child_samples=33, n_estimators=400, num_leaves=60, random_state=77, subsample=1.0 \n",
      "[CV]  colsample_bytree=0.9, learning_rate=0.2014392664532846, min_child_samples=33, n_estimators=400, num_leaves=60, random_state=77, subsample=1.0, total=  25.8s\n",
      "[CV] colsample_bytree=0.8, learning_rate=0.07217492201624912, min_child_samples=31, n_estimators=800, num_leaves=100, random_state=77, subsample=0.7 \n",
      "[CV]  colsample_bytree=0.8, learning_rate=0.07217492201624912, min_child_samples=31, n_estimators=800, num_leaves=100, random_state=77, subsample=0.7, total= 1.3min\n",
      "[CV] colsample_bytree=0.8, learning_rate=0.19636242896572964, min_child_samples=15, n_estimators=200, num_leaves=40, random_state=77, subsample=0.8 \n",
      "[CV]  colsample_bytree=0.8, learning_rate=0.19636242896572964, min_child_samples=15, n_estimators=200, num_leaves=40, random_state=77, subsample=0.8, total=  14.5s\n",
      "[CV] colsample_bytree=0.9, learning_rate=0.06466622153208071, min_child_samples=16, n_estimators=700, num_leaves=60, random_state=77, subsample=1.0 \n",
      "[CV]  colsample_bytree=0.9, learning_rate=0.06466622153208071, min_child_samples=16, n_estimators=700, num_leaves=60, random_state=77, subsample=1.0, total=  47.8s\n",
      "[CV] colsample_bytree=0.7, learning_rate=0.04295057678466784, min_child_samples=35, n_estimators=500, num_leaves=80, random_state=77, subsample=1.0 \n",
      "[CV]  colsample_bytree=0.7, learning_rate=0.04295057678466784, min_child_samples=35, n_estimators=500, num_leaves=80, random_state=77, subsample=1.0, total=  44.9s\n",
      "[CV] colsample_bytree=0.9, learning_rate=0.08369191246785201, min_child_samples=40, n_estimators=500, num_leaves=40, random_state=77, subsample=0.8 \n",
      "[CV]  colsample_bytree=0.9, learning_rate=0.08369191246785201, min_child_samples=40, n_estimators=500, num_leaves=40, random_state=77, subsample=0.8, total=  27.3s\n",
      "[CV] colsample_bytree=0.9, learning_rate=0.14150655161369632, min_child_samples=43, n_estimators=300, num_leaves=80, random_state=77, subsample=1.0 \n",
      "[CV]  colsample_bytree=0.9, learning_rate=0.14150655161369632, min_child_samples=43, n_estimators=300, num_leaves=80, random_state=77, subsample=1.0, total=  21.4s\n",
      "[CV] colsample_bytree=0.8, learning_rate=0.051893920034961294, min_child_samples=11, n_estimators=600, num_leaves=40, random_state=77, subsample=0.8 \n",
      "[CV]  colsample_bytree=0.8, learning_rate=0.051893920034961294, min_child_samples=11, n_estimators=600, num_leaves=40, random_state=77, subsample=0.8, total=  32.6s\n",
      "[CV] colsample_bytree=1.0, learning_rate=0.22161815235979518, min_child_samples=13, n_estimators=800, num_leaves=40, random_state=77, subsample=0.9 \n"
     ]
    },
    {
     "name": "stdout",
     "output_type": "stream",
     "text": [
      "[CV]  colsample_bytree=1.0, learning_rate=0.22161815235979518, min_child_samples=13, n_estimators=800, num_leaves=40, random_state=77, subsample=0.9, total=  37.5s\n",
      "[CV] colsample_bytree=0.9, learning_rate=0.14657524390001295, min_child_samples=14, n_estimators=700, num_leaves=40, random_state=77, subsample=1.0 \n",
      "[CV]  colsample_bytree=0.9, learning_rate=0.14657524390001295, min_child_samples=14, n_estimators=700, num_leaves=40, random_state=77, subsample=1.0, total=  31.7s\n",
      "[CV] colsample_bytree=0.8, learning_rate=0.2228867717326785, min_child_samples=10, n_estimators=400, num_leaves=80, random_state=77, subsample=0.8 \n",
      "[CV]  colsample_bytree=0.8, learning_rate=0.2228867717326785, min_child_samples=10, n_estimators=400, num_leaves=80, random_state=77, subsample=0.8, total=  26.4s\n",
      "[CV] colsample_bytree=0.8, learning_rate=0.22628362648941788, min_child_samples=36, n_estimators=300, num_leaves=90, random_state=77, subsample=0.9 \n",
      "[CV]  colsample_bytree=0.8, learning_rate=0.22628362648941788, min_child_samples=36, n_estimators=300, num_leaves=90, random_state=77, subsample=0.9, total=  21.9s\n",
      "[CV] colsample_bytree=0.9, learning_rate=0.04212228083430471, min_child_samples=13, n_estimators=800, num_leaves=60, random_state=77, subsample=0.9 \n",
      "[CV]  colsample_bytree=0.9, learning_rate=0.04212228083430471, min_child_samples=13, n_estimators=800, num_leaves=60, random_state=77, subsample=0.9, total=  50.3s\n",
      "[CV] colsample_bytree=0.7, learning_rate=0.04135418982762615, min_child_samples=19, n_estimators=200, num_leaves=60, random_state=77, subsample=1.0 \n",
      "[CV]  colsample_bytree=0.7, learning_rate=0.04135418982762615, min_child_samples=19, n_estimators=200, num_leaves=60, random_state=77, subsample=1.0, total=  17.8s\n",
      "[CV] colsample_bytree=0.8, learning_rate=0.10036499971221462, min_child_samples=39, n_estimators=500, num_leaves=50, random_state=77, subsample=0.7 \n",
      "[CV]  colsample_bytree=0.8, learning_rate=0.10036499971221462, min_child_samples=39, n_estimators=500, num_leaves=50, random_state=77, subsample=0.7, total=  26.3s\n",
      "[CV] colsample_bytree=0.7, learning_rate=0.03554538219641183, min_child_samples=14, n_estimators=600, num_leaves=40, random_state=77, subsample=0.7 \n",
      "[CV]  colsample_bytree=0.7, learning_rate=0.03554538219641183, min_child_samples=14, n_estimators=600, num_leaves=40, random_state=77, subsample=0.7, total=  32.5s\n",
      "[CV] colsample_bytree=0.7, learning_rate=0.05339893102386823, min_child_samples=43, n_estimators=800, num_leaves=60, random_state=77, subsample=0.9 \n",
      "[CV]  colsample_bytree=0.7, learning_rate=0.05339893102386823, min_child_samples=43, n_estimators=800, num_leaves=60, random_state=77, subsample=0.9, total=  49.3s\n",
      "[CV] colsample_bytree=0.9, learning_rate=0.031025256467996913, min_child_samples=21, n_estimators=600, num_leaves=70, random_state=77, subsample=0.9 \n",
      "[CV]  colsample_bytree=0.9, learning_rate=0.031025256467996913, min_child_samples=21, n_estimators=600, num_leaves=70, random_state=77, subsample=0.9, total=  45.2s\n",
      "[CV] colsample_bytree=0.8, learning_rate=0.17915969190709452, min_child_samples=11, n_estimators=600, num_leaves=50, random_state=77, subsample=1.0 \n",
      "[CV]  colsample_bytree=0.8, learning_rate=0.17915969190709452, min_child_samples=11, n_estimators=600, num_leaves=50, random_state=77, subsample=1.0, total=  29.3s\n",
      "[CV] colsample_bytree=1.0, learning_rate=0.050250256295630444, min_child_samples=19, n_estimators=300, num_leaves=100, random_state=77, subsample=0.8 \n",
      "[CV]  colsample_bytree=1.0, learning_rate=0.050250256295630444, min_child_samples=19, n_estimators=300, num_leaves=100, random_state=77, subsample=0.8, total=  26.7s\n",
      "[CV] colsample_bytree=0.8, learning_rate=0.2116643254376385, min_child_samples=41, n_estimators=700, num_leaves=100, random_state=77, subsample=0.7 \n",
      "[CV]  colsample_bytree=0.8, learning_rate=0.2116643254376385, min_child_samples=41, n_estimators=700, num_leaves=100, random_state=77, subsample=0.7, total=  50.6s\n",
      "[CV] colsample_bytree=1.0, learning_rate=0.13474874870527043, min_child_samples=38, n_estimators=500, num_leaves=50, random_state=77, subsample=1.0 \n",
      "[CV]  colsample_bytree=1.0, learning_rate=0.13474874870527043, min_child_samples=38, n_estimators=500, num_leaves=50, random_state=77, subsample=1.0, total=  26.4s\n",
      "[CV] colsample_bytree=0.8, learning_rate=0.06224334513263562, min_child_samples=18, n_estimators=800, num_leaves=80, random_state=77, subsample=0.8 \n",
      "[CV]  colsample_bytree=0.8, learning_rate=0.06224334513263562, min_child_samples=18, n_estimators=800, num_leaves=80, random_state=77, subsample=0.8, total=  53.5s\n",
      "[CV] colsample_bytree=0.9, learning_rate=0.1653665678099674, min_child_samples=11, n_estimators=200, num_leaves=40, random_state=77, subsample=0.9 \n",
      "[CV]  colsample_bytree=0.9, learning_rate=0.1653665678099674, min_child_samples=11, n_estimators=200, num_leaves=40, random_state=77, subsample=0.9, total=  12.4s\n",
      "[CV] colsample_bytree=1.0, learning_rate=0.19080070034016716, min_child_samples=43, n_estimators=200, num_leaves=50, random_state=77, subsample=0.8 \n",
      "[CV]  colsample_bytree=1.0, learning_rate=0.19080070034016716, min_child_samples=43, n_estimators=200, num_leaves=50, random_state=77, subsample=0.8, total=  11.7s\n",
      "[CV] colsample_bytree=0.9, learning_rate=0.08013640612008086, min_child_samples=43, n_estimators=700, num_leaves=50, random_state=77, subsample=1.0 \n",
      "[CV]  colsample_bytree=0.9, learning_rate=0.08013640612008086, min_child_samples=43, n_estimators=700, num_leaves=50, random_state=77, subsample=1.0, total=  35.8s\n"
     ]
    },
    {
     "name": "stderr",
     "output_type": "stream",
     "text": [
      "[Parallel(n_jobs=1)]: Done 100 out of 100 | elapsed: 85.6min finished\n"
     ]
    },
    {
     "data": {
      "text/plain": [
       "RandomizedSearchCV(cv=PredefinedSplit(test_fold=array([-1, -1, ...,  0,  0], dtype=int64)),\n",
       "          error_score='raise',\n",
       "          estimator=LGBMRegressor(boosting_type='gbdt', class_weight=None, colsample_bytree=1.0,\n",
       "       learning_rate=0.1, max_depth=-1, min_child_samples=20,\n",
       "       min_child_weight=0.001, min_split_gain=0.0, n_estimators=100,\n",
       "       n_jobs=-1, num_leaves=31, objective=None, random_state=None,\n",
       "       reg_alpha=0.0, reg_lambda=0.0, silent=True, subsample=1.0,\n",
       "       subsample_for_bin=200000, subsample_freq=1),\n",
       "          fit_params=None, iid=True, n_iter=100, n_jobs=1,\n",
       "          param_distributions={'random_state': [77], 'num_leaves': [40, 50, 60, 70, 80, 90, 100], 'n_estimators': [200, 300, 400, 500, 600, 700, 800], 'learning_rate': <scipy.stats._distn_infrastructure.rv_frozen object at 0x11d3a4550>, 'min_child_samples': <scipy.stats._distn_infrastructure.rv_frozen object at 0x11af3c828>, 'colsample_bytree': [0.7, 0.8, 0.9, 1.0], 'subsample': [0.7, 0.8, 0.9, 1.0]},\n",
       "          pre_dispatch='2*n_jobs', random_state=None, refit=True,\n",
       "          return_train_score='warn',\n",
       "          scoring=make_scorer(RMSLE, greater_is_better=False), verbose=2)"
      ]
     },
     "execution_count": 92,
     "metadata": {},
     "output_type": "execute_result"
    }
   ],
   "source": [
    "rscv.fit(X_all, y_all)"
   ]
  },
  {
   "cell_type": "code",
   "execution_count": 93,
   "metadata": {},
   "outputs": [
    {
     "data": {
      "text/plain": [
       "{'colsample_bytree': 0.8,\n",
       " 'learning_rate': 0.12101431676613092,\n",
       " 'min_child_samples': 17,\n",
       " 'n_estimators': 600,\n",
       " 'num_leaves': 70,\n",
       " 'random_state': 77,\n",
       " 'subsample': 1.0}"
      ]
     },
     "execution_count": 93,
     "metadata": {},
     "output_type": "execute_result"
    }
   ],
   "source": [
    "rscv.best_params_"
   ]
  },
  {
   "cell_type": "code",
   "execution_count": 95,
   "metadata": {},
   "outputs": [
    {
     "data": {
      "text/plain": [
       "-0.4918312148437484"
      ]
     },
     "execution_count": 95,
     "metadata": {},
     "output_type": "execute_result"
    }
   ],
   "source": [
    "rscv.best_score_"
   ]
  },
  {
   "cell_type": "code",
   "execution_count": 96,
   "metadata": {},
   "outputs": [
    {
     "name": "stdout",
     "output_type": "stream",
     "text": [
      "# params\n",
      "{'colsample_bytree': 0.8, 'learning_rate': 0.12101431676613092, 'min_child_samples': 17, 'n_estimators': 600, 'num_leaves': 70, 'random_state': 77, 'subsample': 1.0}\n",
      "\n",
      "# descriptors\n",
      "['dow', 'year', 'month', 'day_of_week', 'holiday_flg', 'min_visitors', 'mean_visitors', 'median_visitors', 'max_visitors', 'count_observations', 'latitude', 'longitude', 'rs1_x', 'rv1_x', 'rs2_x', 'rv2_x', 'rs1_y', 'rv1_y', 'rs2_y', 'rv2_y', 'total_reserv_sum', 'total_reserv_mean', 'total_reserv_dt_diff_mean', 'date_int', 'var_max_lat', 'var_max_long', 'lon_plus_lat', 'air_store_id_target_mean', 'air_store_id_target_std', 'air_genre_name_target_mean', 'air_genre_name_target_std', 'air_area_name_target_mean', 'air_area_name_target_std']\n"
     ]
    }
   ],
   "source": [
    "# print('train', RMSLE(y_trn, lgb.predict(X_trn)))\n",
    "# print('valid', RMSLE(y_val, lgb.predict(X_val)))\n",
    "\n",
    "print('# params')\n",
    "print(rscv.best_params_)\n",
    "print()\n",
    "print('# descriptors')\n",
    "print(list(X_trn.columns))"
   ]
  },
  {
   "cell_type": "code",
   "execution_count": 97,
   "metadata": {
    "collapsed": true
   },
   "outputs": [],
   "source": [
    "test['visitors'] = np.expm1(lgb.predict(X_tst))\n",
    "filename = '../output/180128_lgb5'\n",
    "test[['id', 'visitors']].to_csv(filename+'.csv.gz', index=False, compression='gzip')"
   ]
  },
  {
   "cell_type": "code",
   "execution_count": null,
   "metadata": {
    "collapsed": true
   },
   "outputs": [],
   "source": []
  }
 ],
 "metadata": {
  "kernelspec": {
   "display_name": "Python 3",
   "language": "python",
   "name": "python3"
  },
  "language_info": {
   "codemirror_mode": {
    "name": "ipython",
    "version": 3
   },
   "file_extension": ".py",
   "mimetype": "text/x-python",
   "name": "python",
   "nbconvert_exporter": "python",
   "pygments_lexer": "ipython3",
   "version": "3.6.1"
  }
 },
 "nbformat": 4,
 "nbformat_minor": 2
}
